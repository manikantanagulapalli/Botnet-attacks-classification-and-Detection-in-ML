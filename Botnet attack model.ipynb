{
 "cells": [
  {
   "cell_type": "code",
   "execution_count": 16,
   "id": "f30dec0d",
   "metadata": {
    "papermill": {
     "duration": 0.101491,
     "end_time": "2021-12-20T18:35:07.908955",
     "exception": false,
     "start_time": "2021-12-20T18:35:07.807464",
     "status": "completed"
    },
    "tags": []
   },
   "outputs": [
    {
     "data": {
      "text/html": [
       "<div>\n",
       "<style scoped>\n",
       "    .dataframe tbody tr th:only-of-type {\n",
       "        vertical-align: middle;\n",
       "    }\n",
       "\n",
       "    .dataframe tbody tr th {\n",
       "        vertical-align: top;\n",
       "    }\n",
       "\n",
       "    .dataframe thead th {\n",
       "        text-align: right;\n",
       "    }\n",
       "</style>\n",
       "<table border=\"1\" class=\"dataframe\">\n",
       "  <thead>\n",
       "    <tr style=\"text-align: right;\">\n",
       "      <th></th>\n",
       "      <th>0</th>\n",
       "      <th>1</th>\n",
       "      <th>2</th>\n",
       "      <th>3</th>\n",
       "      <th>4</th>\n",
       "    </tr>\n",
       "  </thead>\n",
       "  <tbody>\n",
       "    <tr>\n",
       "      <th>pkSeqID</th>\n",
       "      <td>3142762</td>\n",
       "      <td>2432264</td>\n",
       "      <td>1976315</td>\n",
       "      <td>1240757</td>\n",
       "      <td>3257991</td>\n",
       "    </tr>\n",
       "    <tr>\n",
       "      <th>proto</th>\n",
       "      <td>udp</td>\n",
       "      <td>tcp</td>\n",
       "      <td>tcp</td>\n",
       "      <td>udp</td>\n",
       "      <td>udp</td>\n",
       "    </tr>\n",
       "    <tr>\n",
       "      <th>saddr</th>\n",
       "      <td>192.168.100.150</td>\n",
       "      <td>192.168.100.150</td>\n",
       "      <td>192.168.100.147</td>\n",
       "      <td>192.168.100.150</td>\n",
       "      <td>192.168.100.147</td>\n",
       "    </tr>\n",
       "    <tr>\n",
       "      <th>sport</th>\n",
       "      <td>6551</td>\n",
       "      <td>5532</td>\n",
       "      <td>27165</td>\n",
       "      <td>48719</td>\n",
       "      <td>22461</td>\n",
       "    </tr>\n",
       "    <tr>\n",
       "      <th>daddr</th>\n",
       "      <td>192.168.100.3</td>\n",
       "      <td>192.168.100.3</td>\n",
       "      <td>192.168.100.3</td>\n",
       "      <td>192.168.100.3</td>\n",
       "      <td>192.168.100.3</td>\n",
       "    </tr>\n",
       "    <tr>\n",
       "      <th>dport</th>\n",
       "      <td>80</td>\n",
       "      <td>80</td>\n",
       "      <td>80</td>\n",
       "      <td>80</td>\n",
       "      <td>80</td>\n",
       "    </tr>\n",
       "    <tr>\n",
       "      <th>seq</th>\n",
       "      <td>251984</td>\n",
       "      <td>256724</td>\n",
       "      <td>62921</td>\n",
       "      <td>99168</td>\n",
       "      <td>105063</td>\n",
       "    </tr>\n",
       "    <tr>\n",
       "      <th>stddev</th>\n",
       "      <td>1.900363</td>\n",
       "      <td>0.078003</td>\n",
       "      <td>0.268666</td>\n",
       "      <td>1.823185</td>\n",
       "      <td>0.822418</td>\n",
       "    </tr>\n",
       "    <tr>\n",
       "      <th>N_IN_Conn_P_SrcIP</th>\n",
       "      <td>100</td>\n",
       "      <td>38</td>\n",
       "      <td>100</td>\n",
       "      <td>63</td>\n",
       "      <td>100</td>\n",
       "    </tr>\n",
       "    <tr>\n",
       "      <th>min</th>\n",
       "      <td>0.0</td>\n",
       "      <td>3.85693</td>\n",
       "      <td>2.9741</td>\n",
       "      <td>0.0</td>\n",
       "      <td>2.979995</td>\n",
       "    </tr>\n",
       "    <tr>\n",
       "      <th>state_number</th>\n",
       "      <td>4</td>\n",
       "      <td>3</td>\n",
       "      <td>3</td>\n",
       "      <td>4</td>\n",
       "      <td>4</td>\n",
       "    </tr>\n",
       "    <tr>\n",
       "      <th>mean</th>\n",
       "      <td>2.687519</td>\n",
       "      <td>3.934927</td>\n",
       "      <td>3.341429</td>\n",
       "      <td>3.222832</td>\n",
       "      <td>3.983222</td>\n",
       "    </tr>\n",
       "    <tr>\n",
       "      <th>N_IN_Conn_P_DstIP</th>\n",
       "      <td>100</td>\n",
       "      <td>100</td>\n",
       "      <td>100</td>\n",
       "      <td>63</td>\n",
       "      <td>100</td>\n",
       "    </tr>\n",
       "    <tr>\n",
       "      <th>drate</th>\n",
       "      <td>0.0</td>\n",
       "      <td>0.0</td>\n",
       "      <td>0.0</td>\n",
       "      <td>0.0</td>\n",
       "      <td>0.0</td>\n",
       "    </tr>\n",
       "    <tr>\n",
       "      <th>srate</th>\n",
       "      <td>0.494549</td>\n",
       "      <td>0.256493</td>\n",
       "      <td>0.29488</td>\n",
       "      <td>0.461435</td>\n",
       "      <td>1.002999</td>\n",
       "    </tr>\n",
       "    <tr>\n",
       "      <th>max</th>\n",
       "      <td>4.031619</td>\n",
       "      <td>4.012924</td>\n",
       "      <td>3.609205</td>\n",
       "      <td>4.942302</td>\n",
       "      <td>4.994452</td>\n",
       "    </tr>\n",
       "    <tr>\n",
       "      <th>attack</th>\n",
       "      <td>1</td>\n",
       "      <td>1</td>\n",
       "      <td>1</td>\n",
       "      <td>1</td>\n",
       "      <td>1</td>\n",
       "    </tr>\n",
       "    <tr>\n",
       "      <th>category</th>\n",
       "      <td>DDoS</td>\n",
       "      <td>DDoS</td>\n",
       "      <td>DDoS</td>\n",
       "      <td>DoS</td>\n",
       "      <td>DDoS</td>\n",
       "    </tr>\n",
       "    <tr>\n",
       "      <th>subcategory</th>\n",
       "      <td>UDP</td>\n",
       "      <td>TCP</td>\n",
       "      <td>TCP</td>\n",
       "      <td>UDP</td>\n",
       "      <td>UDP</td>\n",
       "    </tr>\n",
       "  </tbody>\n",
       "</table>\n",
       "</div>"
      ],
      "text/plain": [
       "                                 0                1                2  \\\n",
       "pkSeqID                    3142762          2432264          1976315   \n",
       "proto                          udp              tcp              tcp   \n",
       "saddr              192.168.100.150  192.168.100.150  192.168.100.147   \n",
       "sport                         6551             5532            27165   \n",
       "daddr                192.168.100.3    192.168.100.3    192.168.100.3   \n",
       "dport                           80               80               80   \n",
       "seq                         251984           256724            62921   \n",
       "stddev                    1.900363         0.078003         0.268666   \n",
       "N_IN_Conn_P_SrcIP              100               38              100   \n",
       "min                            0.0          3.85693           2.9741   \n",
       "state_number                     4                3                3   \n",
       "mean                      2.687519         3.934927         3.341429   \n",
       "N_IN_Conn_P_DstIP              100              100              100   \n",
       "drate                          0.0              0.0              0.0   \n",
       "srate                     0.494549         0.256493          0.29488   \n",
       "max                       4.031619         4.012924         3.609205   \n",
       "attack                           1                1                1   \n",
       "category                      DDoS             DDoS             DDoS   \n",
       "subcategory                    UDP              TCP              TCP   \n",
       "\n",
       "                                 3                4  \n",
       "pkSeqID                    1240757          3257991  \n",
       "proto                          udp              udp  \n",
       "saddr              192.168.100.150  192.168.100.147  \n",
       "sport                        48719            22461  \n",
       "daddr                192.168.100.3    192.168.100.3  \n",
       "dport                           80               80  \n",
       "seq                          99168           105063  \n",
       "stddev                    1.823185         0.822418  \n",
       "N_IN_Conn_P_SrcIP               63              100  \n",
       "min                            0.0         2.979995  \n",
       "state_number                     4                4  \n",
       "mean                      3.222832         3.983222  \n",
       "N_IN_Conn_P_DstIP               63              100  \n",
       "drate                          0.0              0.0  \n",
       "srate                     0.461435         1.002999  \n",
       "max                       4.942302         4.994452  \n",
       "attack                           1                1  \n",
       "category                       DoS             DDoS  \n",
       "subcategory                    UDP              UDP  "
      ]
     },
     "execution_count": 16,
     "metadata": {},
     "output_type": "execute_result"
    }
   ],
   "source": [
    "from __future__ import print_function\n",
    "import os\n",
    "data_path = ['data']\n",
    "import pandas as pd\n",
    "import numpy as np\n",
    "\n",
    "filepath = os.sep.join(data_path + ['UNSW_2018_IoT_Botnet_Final_10_best_Training.csv'])\n",
    "df = pd.read_csv(filepath, sep=',')\n",
    "data.head().T\n",
    "\n"
   ]
  },
  {
   "cell_type": "code",
   "execution_count": 17,
   "id": "f8c5e39a",
   "metadata": {},
   "outputs": [
    {
     "name": "stdout",
     "output_type": "stream",
     "text": [
      "<class 'pandas.core.frame.DataFrame'>\n",
      "RangeIndex: 2934817 entries, 0 to 2934816\n",
      "Data columns (total 19 columns):\n",
      " #   Column             Dtype  \n",
      "---  ------             -----  \n",
      " 0   pkSeqID            int64  \n",
      " 1   proto              object \n",
      " 2   saddr              object \n",
      " 3   sport              object \n",
      " 4   daddr              object \n",
      " 5   dport              object \n",
      " 6   seq                int64  \n",
      " 7   stddev             float64\n",
      " 8   N_IN_Conn_P_SrcIP  int64  \n",
      " 9   min                float64\n",
      " 10  state_number       int64  \n",
      " 11  mean               float64\n",
      " 12  N_IN_Conn_P_DstIP  int64  \n",
      " 13  drate              float64\n",
      " 14  srate              float64\n",
      " 15  max                float64\n",
      " 16  attack             int64  \n",
      " 17  category           object \n",
      " 18  subcategory        object \n",
      "dtypes: float64(6), int64(6), object(7)\n",
      "memory usage: 425.4+ MB\n"
     ]
    }
   ],
   "source": [
    "df.info()"
   ]
  },
  {
   "cell_type": "code",
   "execution_count": 18,
   "id": "94758d92",
   "metadata": {},
   "outputs": [
    {
     "data": {
      "text/plain": [
       "udp          1596819\n",
       "tcp          1330598\n",
       "icmp            7228\n",
       "arp              166\n",
       "ipv6-icmp          6\n",
       "Name: proto, dtype: int64"
      ]
     },
     "execution_count": 18,
     "metadata": {},
     "output_type": "execute_result"
    }
   ],
   "source": [
    "df[\"proto\"].value_counts()\n"
   ]
  },
  {
   "cell_type": "markdown",
   "id": "da6d21cd",
   "metadata": {
    "papermill": {
     "duration": 0.105473,
     "end_time": "2021-12-20T18:35:08.120564",
     "exception": false,
     "start_time": "2021-12-20T18:35:08.015091",
     "status": "completed"
    },
    "tags": []
   },
   "source": [
    "Different types of attack categories and their counts"
   ]
  },
  {
   "cell_type": "markdown",
   "id": "cfc8e0e3",
   "metadata": {
    "papermill": {
     "duration": 0.101427,
     "end_time": "2021-12-20T18:35:08.645183",
     "exception": false,
     "start_time": "2021-12-20T18:35:08.543756",
     "status": "completed"
    },
    "tags": []
   },
   "source": []
  },
  {
   "cell_type": "code",
   "execution_count": 19,
   "id": "c6a7858f",
   "metadata": {},
   "outputs": [
    {
     "data": {
      "text/plain": [
       "DDoS              1541315\n",
       "DoS               1320148\n",
       "Reconnaissance      72919\n",
       "Normal                370\n",
       "Theft                  65\n",
       "Name: category, dtype: int64"
      ]
     },
     "execution_count": 19,
     "metadata": {},
     "output_type": "execute_result"
    }
   ],
   "source": [
    "df['category'].value_counts()"
   ]
  },
  {
   "cell_type": "markdown",
   "id": "933698d5",
   "metadata": {
    "papermill": {
     "duration": 0.100952,
     "end_time": "2021-12-20T18:35:08.849672",
     "exception": false,
     "start_time": "2021-12-20T18:35:08.748720",
     "status": "completed"
    },
    "tags": []
   },
   "source": [
    "Different types of protoclas and their counts"
   ]
  },
  {
   "cell_type": "code",
   "execution_count": 20,
   "id": "1c4b25e6",
   "metadata": {
    "execution": {
     "iopub.execute_input": "2021-12-20T18:35:09.057258Z",
     "iopub.status.busy": "2021-12-20T18:35:09.056179Z",
     "iopub.status.idle": "2021-12-20T18:35:09.157798Z",
     "shell.execute_reply": "2021-12-20T18:35:09.158346Z",
     "shell.execute_reply.started": "2021-12-20T18:29:54.971147Z"
    },
    "papermill": {
     "duration": 0.208044,
     "end_time": "2021-12-20T18:35:09.158530",
     "exception": false,
     "start_time": "2021-12-20T18:35:08.950486",
     "status": "completed"
    },
    "tags": []
   },
   "outputs": [
    {
     "data": {
      "text/plain": [
       "udp          1596819\n",
       "tcp          1330598\n",
       "icmp            7228\n",
       "arp              166\n",
       "ipv6-icmp          6\n",
       "Name: proto, dtype: int64"
      ]
     },
     "execution_count": 20,
     "metadata": {},
     "output_type": "execute_result"
    }
   ],
   "source": [
    "df['proto'].value_counts()"
   ]
  },
  {
   "cell_type": "code",
   "execution_count": 21,
   "id": "86113587",
   "metadata": {
    "execution": {
     "iopub.execute_input": "2021-12-20T18:35:09.373758Z",
     "iopub.status.busy": "2021-12-20T18:35:09.373006Z",
     "iopub.status.idle": "2021-12-20T18:35:10.348419Z",
     "shell.execute_reply": "2021-12-20T18:35:10.347655Z",
     "shell.execute_reply.started": "2021-12-20T18:29:55.100577Z"
    },
    "papermill": {
     "duration": 1.086193,
     "end_time": "2021-12-20T18:35:10.348627",
     "exception": false,
     "start_time": "2021-12-20T18:35:09.262434",
     "status": "completed"
    },
    "tags": []
   },
   "outputs": [],
   "source": [
    "import pandas as pd\n",
    "import numpy as np\n",
    "import scipy as sci\n",
    "import matplotlib.pyplot as plt\n",
    "import seaborn as sns"
   ]
  },
  {
   "cell_type": "markdown",
   "id": "68fcab92",
   "metadata": {
    "papermill": {
     "duration": 0.104761,
     "end_time": "2021-12-20T18:35:10.558571",
     "exception": false,
     "start_time": "2021-12-20T18:35:10.453810",
     "status": "completed"
    },
    "tags": []
   },
   "source": [
    "SCATTER PLOT BETWEEN TARGET CATEGORY AND FEATURE PROTOCALS"
   ]
  },
  {
   "cell_type": "code",
   "execution_count": 22,
   "id": "064651d4",
   "metadata": {
    "execution": {
     "iopub.execute_input": "2021-12-20T18:35:10.772849Z",
     "iopub.status.busy": "2021-12-20T18:35:10.771163Z",
     "iopub.status.idle": "2021-12-20T18:35:19.218709Z",
     "shell.execute_reply": "2021-12-20T18:35:19.218123Z",
     "shell.execute_reply.started": "2021-12-20T18:29:56.073550Z"
    },
    "papermill": {
     "duration": 8.556862,
     "end_time": "2021-12-20T18:35:19.218912",
     "exception": false,
     "start_time": "2021-12-20T18:35:10.662050",
     "status": "completed"
    },
    "tags": []
   },
   "outputs": [
    {
     "data": {
      "text/plain": [
       "<AxesSubplot:xlabel='proto', ylabel='category'>"
      ]
     },
     "execution_count": 22,
     "metadata": {},
     "output_type": "execute_result"
    },
    {
     "data": {
      "image/png": "[encoded data removed]",
      "text/plain": [
       "<Figure size 2160x720 with 1 Axes>"
      ]
     },
     "metadata": {
      "needs_background": "light"
     },
     "output_type": "display_data"
    }
   ],
   "source": [
    "plt.figure(figsize=(30,10))\n",
    "sns.scatterplot(data = df,x='proto',y='category',s=200,palette=\"deep\" )"
   ]
  },
  {
   "cell_type": "code",
   "execution_count": 23,
   "id": "355b7554",
   "metadata": {
    "execution": {
     "iopub.execute_input": "2021-12-20T18:35:19.433720Z",
     "iopub.status.busy": "2021-12-20T18:35:19.433040Z",
     "iopub.status.idle": "2021-12-20T18:35:19.625845Z",
     "shell.execute_reply": "2021-12-20T18:35:19.625143Z",
     "shell.execute_reply.started": "2021-12-20T18:30:04.509248Z"
    },
    "papermill": {
     "duration": 0.30278,
     "end_time": "2021-12-20T18:35:19.626011",
     "exception": false,
     "start_time": "2021-12-20T18:35:19.323231",
     "status": "completed"
    },
    "tags": []
   },
   "outputs": [
    {
     "data": {
      "text/html": [
       "<div>\n",
       "<style scoped>\n",
       "    .dataframe tbody tr th:only-of-type {\n",
       "        vertical-align: middle;\n",
       "    }\n",
       "\n",
       "    .dataframe tbody tr th {\n",
       "        vertical-align: top;\n",
       "    }\n",
       "\n",
       "    .dataframe thead th {\n",
       "        text-align: right;\n",
       "    }\n",
       "</style>\n",
       "<table border=\"1\" class=\"dataframe\">\n",
       "  <thead>\n",
       "    <tr style=\"text-align: right;\">\n",
       "      <th></th>\n",
       "      <th>pkSeqID</th>\n",
       "      <th>proto</th>\n",
       "      <th>saddr</th>\n",
       "      <th>sport</th>\n",
       "      <th>daddr</th>\n",
       "      <th>dport</th>\n",
       "      <th>seq</th>\n",
       "      <th>stddev</th>\n",
       "      <th>N_IN_Conn_P_SrcIP</th>\n",
       "      <th>min</th>\n",
       "      <th>state_number</th>\n",
       "      <th>mean</th>\n",
       "      <th>N_IN_Conn_P_DstIP</th>\n",
       "      <th>drate</th>\n",
       "      <th>srate</th>\n",
       "      <th>max</th>\n",
       "      <th>attack</th>\n",
       "      <th>category</th>\n",
       "      <th>subcategory</th>\n",
       "    </tr>\n",
       "  </thead>\n",
       "  <tbody>\n",
       "    <tr>\n",
       "      <th>0</th>\n",
       "      <td>3142762</td>\n",
       "      <td>udp</td>\n",
       "      <td>192.168.100.150</td>\n",
       "      <td>6551</td>\n",
       "      <td>192.168.100.3</td>\n",
       "      <td>80</td>\n",
       "      <td>251984</td>\n",
       "      <td>1.900363</td>\n",
       "      <td>100</td>\n",
       "      <td>0.000000</td>\n",
       "      <td>4</td>\n",
       "      <td>2.687519</td>\n",
       "      <td>100</td>\n",
       "      <td>0.0</td>\n",
       "      <td>0.494549</td>\n",
       "      <td>4.031619</td>\n",
       "      <td>1</td>\n",
       "      <td>DDoS</td>\n",
       "      <td>UDP</td>\n",
       "    </tr>\n",
       "    <tr>\n",
       "      <th>3</th>\n",
       "      <td>1240757</td>\n",
       "      <td>udp</td>\n",
       "      <td>192.168.100.150</td>\n",
       "      <td>48719</td>\n",
       "      <td>192.168.100.3</td>\n",
       "      <td>80</td>\n",
       "      <td>99168</td>\n",
       "      <td>1.823185</td>\n",
       "      <td>63</td>\n",
       "      <td>0.000000</td>\n",
       "      <td>4</td>\n",
       "      <td>3.222832</td>\n",
       "      <td>63</td>\n",
       "      <td>0.0</td>\n",
       "      <td>0.461435</td>\n",
       "      <td>4.942302</td>\n",
       "      <td>1</td>\n",
       "      <td>DoS</td>\n",
       "      <td>UDP</td>\n",
       "    </tr>\n",
       "    <tr>\n",
       "      <th>4</th>\n",
       "      <td>3257991</td>\n",
       "      <td>udp</td>\n",
       "      <td>192.168.100.147</td>\n",
       "      <td>22461</td>\n",
       "      <td>192.168.100.3</td>\n",
       "      <td>80</td>\n",
       "      <td>105063</td>\n",
       "      <td>0.822418</td>\n",
       "      <td>100</td>\n",
       "      <td>2.979995</td>\n",
       "      <td>4</td>\n",
       "      <td>3.983222</td>\n",
       "      <td>100</td>\n",
       "      <td>0.0</td>\n",
       "      <td>1.002999</td>\n",
       "      <td>4.994452</td>\n",
       "      <td>1</td>\n",
       "      <td>DDoS</td>\n",
       "      <td>UDP</td>\n",
       "    </tr>\n",
       "    <tr>\n",
       "      <th>6</th>\n",
       "      <td>3406860</td>\n",
       "      <td>udp</td>\n",
       "      <td>192.168.100.150</td>\n",
       "      <td>31712</td>\n",
       "      <td>192.168.100.3</td>\n",
       "      <td>80</td>\n",
       "      <td>253932</td>\n",
       "      <td>1.928021</td>\n",
       "      <td>100</td>\n",
       "      <td>0.000000</td>\n",
       "      <td>4</td>\n",
       "      <td>2.726619</td>\n",
       "      <td>100</td>\n",
       "      <td>0.0</td>\n",
       "      <td>0.490708</td>\n",
       "      <td>4.097849</td>\n",
       "      <td>1</td>\n",
       "      <td>DDoS</td>\n",
       "      <td>UDP</td>\n",
       "    </tr>\n",
       "    <tr>\n",
       "      <th>7</th>\n",
       "      <td>787741</td>\n",
       "      <td>udp</td>\n",
       "      <td>192.168.100.149</td>\n",
       "      <td>33530</td>\n",
       "      <td>192.168.100.5</td>\n",
       "      <td>80</td>\n",
       "      <td>170464</td>\n",
       "      <td>2.113912</td>\n",
       "      <td>100</td>\n",
       "      <td>0.000000</td>\n",
       "      <td>4</td>\n",
       "      <td>2.112801</td>\n",
       "      <td>100</td>\n",
       "      <td>0.0</td>\n",
       "      <td>0.209328</td>\n",
       "      <td>4.322539</td>\n",
       "      <td>1</td>\n",
       "      <td>DoS</td>\n",
       "      <td>UDP</td>\n",
       "    </tr>\n",
       "    <tr>\n",
       "      <th>...</th>\n",
       "      <td>...</td>\n",
       "      <td>...</td>\n",
       "      <td>...</td>\n",
       "      <td>...</td>\n",
       "      <td>...</td>\n",
       "      <td>...</td>\n",
       "      <td>...</td>\n",
       "      <td>...</td>\n",
       "      <td>...</td>\n",
       "      <td>...</td>\n",
       "      <td>...</td>\n",
       "      <td>...</td>\n",
       "      <td>...</td>\n",
       "      <td>...</td>\n",
       "      <td>...</td>\n",
       "      <td>...</td>\n",
       "      <td>...</td>\n",
       "      <td>...</td>\n",
       "      <td>...</td>\n",
       "    </tr>\n",
       "    <tr>\n",
       "      <th>2934808</th>\n",
       "      <td>1017943</td>\n",
       "      <td>udp</td>\n",
       "      <td>192.168.100.147</td>\n",
       "      <td>59249</td>\n",
       "      <td>192.168.100.7</td>\n",
       "      <td>80</td>\n",
       "      <td>138509</td>\n",
       "      <td>0.962888</td>\n",
       "      <td>94</td>\n",
       "      <td>0.000000</td>\n",
       "      <td>4</td>\n",
       "      <td>2.152737</td>\n",
       "      <td>94</td>\n",
       "      <td>0.0</td>\n",
       "      <td>0.367296</td>\n",
       "      <td>2.600589</td>\n",
       "      <td>1</td>\n",
       "      <td>DoS</td>\n",
       "      <td>UDP</td>\n",
       "    </tr>\n",
       "    <tr>\n",
       "      <th>2934811</th>\n",
       "      <td>1241657</td>\n",
       "      <td>udp</td>\n",
       "      <td>192.168.100.150</td>\n",
       "      <td>48870</td>\n",
       "      <td>192.168.100.3</td>\n",
       "      <td>80</td>\n",
       "      <td>100068</td>\n",
       "      <td>1.823267</td>\n",
       "      <td>100</td>\n",
       "      <td>0.000000</td>\n",
       "      <td>4</td>\n",
       "      <td>3.223096</td>\n",
       "      <td>100</td>\n",
       "      <td>0.0</td>\n",
       "      <td>0.461439</td>\n",
       "      <td>4.934773</td>\n",
       "      <td>1</td>\n",
       "      <td>DoS</td>\n",
       "      <td>UDP</td>\n",
       "    </tr>\n",
       "    <tr>\n",
       "      <th>2934812</th>\n",
       "      <td>1132803</td>\n",
       "      <td>udp</td>\n",
       "      <td>192.168.100.149</td>\n",
       "      <td>56044</td>\n",
       "      <td>192.168.100.5</td>\n",
       "      <td>80</td>\n",
       "      <td>253370</td>\n",
       "      <td>0.016992</td>\n",
       "      <td>100</td>\n",
       "      <td>4.082509</td>\n",
       "      <td>4</td>\n",
       "      <td>4.102515</td>\n",
       "      <td>100</td>\n",
       "      <td>0.0</td>\n",
       "      <td>0.243473</td>\n",
       "      <td>4.124047</td>\n",
       "      <td>1</td>\n",
       "      <td>DoS</td>\n",
       "      <td>UDP</td>\n",
       "    </tr>\n",
       "    <tr>\n",
       "      <th>2934813</th>\n",
       "      <td>3384621</td>\n",
       "      <td>udp</td>\n",
       "      <td>192.168.100.150</td>\n",
       "      <td>21546</td>\n",
       "      <td>192.168.100.3</td>\n",
       "      <td>80</td>\n",
       "      <td>231693</td>\n",
       "      <td>1.922317</td>\n",
       "      <td>100</td>\n",
       "      <td>0.000000</td>\n",
       "      <td>4</td>\n",
       "      <td>2.718527</td>\n",
       "      <td>100</td>\n",
       "      <td>0.0</td>\n",
       "      <td>0.490800</td>\n",
       "      <td>4.090534</td>\n",
       "      <td>1</td>\n",
       "      <td>DDoS</td>\n",
       "      <td>UDP</td>\n",
       "    </tr>\n",
       "    <tr>\n",
       "      <th>2934814</th>\n",
       "      <td>775893</td>\n",
       "      <td>udp</td>\n",
       "      <td>192.168.100.149</td>\n",
       "      <td>30897</td>\n",
       "      <td>192.168.100.5</td>\n",
       "      <td>80</td>\n",
       "      <td>158616</td>\n",
       "      <td>2.112228</td>\n",
       "      <td>100</td>\n",
       "      <td>0.000000</td>\n",
       "      <td>4</td>\n",
       "      <td>2.110766</td>\n",
       "      <td>100</td>\n",
       "      <td>0.0</td>\n",
       "      <td>0.207444</td>\n",
       "      <td>4.332615</td>\n",
       "      <td>1</td>\n",
       "      <td>DoS</td>\n",
       "      <td>UDP</td>\n",
       "    </tr>\n",
       "  </tbody>\n",
       "</table>\n",
       "<p>1596819 rows × 19 columns</p>\n",
       "</div>"
      ],
      "text/plain": [
       "         pkSeqID proto            saddr  sport          daddr dport     seq  \\\n",
       "0        3142762   udp  192.168.100.150   6551  192.168.100.3    80  251984   \n",
       "3        1240757   udp  192.168.100.150  48719  192.168.100.3    80   99168   \n",
       "4        3257991   udp  192.168.100.147  22461  192.168.100.3    80  105063   \n",
       "6        3406860   udp  192.168.100.150  31712  192.168.100.3    80  253932   \n",
       "7         787741   udp  192.168.100.149  33530  192.168.100.5    80  170464   \n",
       "...          ...   ...              ...    ...            ...   ...     ...   \n",
       "2934808  1017943   udp  192.168.100.147  59249  192.168.100.7    80  138509   \n",
       "2934811  1241657   udp  192.168.100.150  48870  192.168.100.3    80  100068   \n",
       "2934812  1132803   udp  192.168.100.149  56044  192.168.100.5    80  253370   \n",
       "2934813  3384621   udp  192.168.100.150  21546  192.168.100.3    80  231693   \n",
       "2934814   775893   udp  192.168.100.149  30897  192.168.100.5    80  158616   \n",
       "\n",
       "           stddev  N_IN_Conn_P_SrcIP       min  state_number      mean  \\\n",
       "0        1.900363                100  0.000000             4  2.687519   \n",
       "3        1.823185                 63  0.000000             4  3.222832   \n",
       "4        0.822418                100  2.979995             4  3.983222   \n",
       "6        1.928021                100  0.000000             4  2.726619   \n",
       "7        2.113912                100  0.000000             4  2.112801   \n",
       "...           ...                ...       ...           ...       ...   \n",
       "2934808  0.962888                 94  0.000000             4  2.152737   \n",
       "2934811  1.823267                100  0.000000             4  3.223096   \n",
       "2934812  0.016992                100  4.082509             4  4.102515   \n",
       "2934813  1.922317                100  0.000000             4  2.718527   \n",
       "2934814  2.112228                100  0.000000             4  2.110766   \n",
       "\n",
       "         N_IN_Conn_P_DstIP  drate     srate       max  attack category  \\\n",
       "0                      100    0.0  0.494549  4.031619       1     DDoS   \n",
       "3                       63    0.0  0.461435  4.942302       1      DoS   \n",
       "4                      100    0.0  1.002999  4.994452       1     DDoS   \n",
       "6                      100    0.0  0.490708  4.097849       1     DDoS   \n",
       "7                      100    0.0  0.209328  4.322539       1      DoS   \n",
       "...                    ...    ...       ...       ...     ...      ...   \n",
       "2934808                 94    0.0  0.367296  2.600589       1      DoS   \n",
       "2934811                100    0.0  0.461439  4.934773       1      DoS   \n",
       "2934812                100    0.0  0.243473  4.124047       1      DoS   \n",
       "2934813                100    0.0  0.490800  4.090534       1     DDoS   \n",
       "2934814                100    0.0  0.207444  4.332615       1      DoS   \n",
       "\n",
       "        subcategory  \n",
       "0               UDP  \n",
       "3               UDP  \n",
       "4               UDP  \n",
       "6               UDP  \n",
       "7               UDP  \n",
       "...             ...  \n",
       "2934808         UDP  \n",
       "2934811         UDP  \n",
       "2934812         UDP  \n",
       "2934813         UDP  \n",
       "2934814         UDP  \n",
       "\n",
       "[1596819 rows x 19 columns]"
      ]
     },
     "execution_count": 23,
     "metadata": {},
     "output_type": "execute_result"
    }
   ],
   "source": [
    "df2=df[df['proto']=='udp']\n",
    "df2"
   ]
  },
  {
   "cell_type": "code",
   "execution_count": 24,
   "id": "583f7553",
   "metadata": {
    "execution": {
     "iopub.execute_input": "2021-12-20T18:35:19.842657Z",
     "iopub.status.busy": "2021-12-20T18:35:19.841994Z",
     "iopub.status.idle": "2021-12-20T18:35:20.107236Z",
     "shell.execute_reply": "2021-12-20T18:35:20.106668Z",
     "shell.execute_reply.started": "2021-12-20T18:30:04.793754Z"
    },
    "papermill": {
     "duration": 0.374801,
     "end_time": "2021-12-20T18:35:20.107401",
     "exception": false,
     "start_time": "2021-12-20T18:35:19.732600",
     "status": "completed"
    },
    "tags": []
   },
   "outputs": [
    {
     "data": {
      "text/html": [
       "<div>\n",
       "<style scoped>\n",
       "    .dataframe tbody tr th:only-of-type {\n",
       "        vertical-align: middle;\n",
       "    }\n",
       "\n",
       "    .dataframe tbody tr th {\n",
       "        vertical-align: top;\n",
       "    }\n",
       "\n",
       "    .dataframe thead th {\n",
       "        text-align: right;\n",
       "    }\n",
       "</style>\n",
       "<table border=\"1\" class=\"dataframe\">\n",
       "  <thead>\n",
       "    <tr style=\"text-align: right;\">\n",
       "      <th></th>\n",
       "      <th>category</th>\n",
       "      <th>proto</th>\n",
       "    </tr>\n",
       "  </thead>\n",
       "  <tbody>\n",
       "    <tr>\n",
       "      <th>0</th>\n",
       "      <td>DDoS</td>\n",
       "      <td>758279</td>\n",
       "    </tr>\n",
       "    <tr>\n",
       "      <th>1</th>\n",
       "      <td>DoS</td>\n",
       "      <td>826321</td>\n",
       "    </tr>\n",
       "    <tr>\n",
       "      <th>2</th>\n",
       "      <td>Normal</td>\n",
       "      <td>289</td>\n",
       "    </tr>\n",
       "    <tr>\n",
       "      <th>3</th>\n",
       "      <td>Reconnaissance</td>\n",
       "      <td>11930</td>\n",
       "    </tr>\n",
       "  </tbody>\n",
       "</table>\n",
       "</div>"
      ],
      "text/plain": [
       "         category   proto\n",
       "0            DDoS  758279\n",
       "1             DoS  826321\n",
       "2          Normal     289\n",
       "3  Reconnaissance   11930"
      ]
     },
     "execution_count": 24,
     "metadata": {},
     "output_type": "execute_result"
    }
   ],
   "source": [
    "df2=df[df['proto']=='udp']\n",
    "df2\n",
    "\n",
    "df2 = df2.groupby('category')['proto'].count().to_frame().reset_index()\n",
    "df2\n"
   ]
  },
  {
   "cell_type": "markdown",
   "id": "e8694e7d",
   "metadata": {
    "papermill": {
     "duration": 0.104856,
     "end_time": "2021-12-20T18:35:20.316821",
     "exception": false,
     "start_time": "2021-12-20T18:35:20.211965",
     "status": "completed"
    },
    "tags": []
   },
   "source": [
    "CHECKING HOW MUCH PERCENTAGE OF EACH ATTACK CATEGORY FOR PROTOCAL UDP"
   ]
  },
  {
   "cell_type": "code",
   "execution_count": 44,
   "id": "b7716250",
   "metadata": {
    "execution": {
     "iopub.execute_input": "2021-12-20T18:35:20.531169Z",
     "iopub.status.busy": "2021-12-20T18:35:20.530477Z",
     "iopub.status.idle": "2021-12-20T18:35:20.995972Z",
     "shell.execute_reply": "2021-12-20T18:35:20.996556Z",
     "shell.execute_reply.started": "2021-12-20T18:30:05.197607Z"
    },
    "papermill": {
     "duration": 0.573894,
     "end_time": "2021-12-20T18:35:20.996760",
     "exception": false,
     "start_time": "2021-12-20T18:35:20.422866",
     "status": "completed"
    },
    "tags": []
   },
   "outputs": [
    {
     "data": {
      "image/png": "[encoded data removed]",
      "text/plain": [
       "<Figure size 720x720 with 1 Axes>"
      ]
     },
     "metadata": {},
     "output_type": "display_data"
    }
   ],
   "source": [
    "df2=df[df['proto']=='udp']\n",
    "df2\n",
    "\n",
    "df2 = df2.groupby('category')['proto'].count().to_frame().reset_index()\n",
    "df2\n",
    "\n",
    "plt.figure(figsize = (10,10))\n",
    "\n",
    "plt.rcParams.update({'font.size': 15})\n",
    "textprops = {\"fontsize\":15}\n",
    "#plt.pie(df2['is_product_recomended'], labels = df2.categories) \n",
    "plt.pie(df2['proto'], labels = df2.category,autopct = \"%0.2f%%\", # Show data in persentage for with 2 decimal point\n",
    "        shadow = True, # Showing shadow of pie chart\n",
    "        radius = 1.4, # Radius to increase or decrease the size of pie chart \n",
    "       startangle = 270, # Start angle of first section\n",
    "        textprops =textprops) \n",
    "\n",
    "plt.title('percentage of category in udp') \n",
    "\n",
    "plt.show()"
   ]
  },
  {
   "cell_type": "markdown",
   "id": "d60c7173",
   "metadata": {
    "papermill": {
     "duration": 0.109803,
     "end_time": "2021-12-20T18:35:21.213422",
     "exception": false,
     "start_time": "2021-12-20T18:35:21.103619",
     "status": "completed"
    },
    "tags": []
   },
   "source": [
    "CHECKING HOW MUCH PERCENTAGE OF EACH ATTACK CATEGORY FOR PROTOCAL TCP"
   ]
  },
  {
   "cell_type": "code",
   "execution_count": 45,
   "id": "4d38e92f",
   "metadata": {
    "execution": {
     "iopub.execute_input": "2021-12-20T18:35:21.431519Z",
     "iopub.status.busy": "2021-12-20T18:35:21.430823Z",
     "iopub.status.idle": "2021-12-20T18:35:21.888492Z",
     "shell.execute_reply": "2021-12-20T18:35:21.889036Z",
     "shell.execute_reply.started": "2021-12-20T18:30:05.952880Z"
    },
    "papermill": {
     "duration": 0.56857,
     "end_time": "2021-12-20T18:35:21.889230",
     "exception": false,
     "start_time": "2021-12-20T18:35:21.320660",
     "status": "completed"
    },
    "tags": []
   },
   "outputs": [
    {
     "data": {
      "image/png": "[encoded data removed]",
      "text/plain": [
       "<Figure size 720x720 with 1 Axes>"
      ]
     },
     "metadata": {},
     "output_type": "display_data"
    }
   ],
   "source": [
    "df2=df[df['proto']=='tcp']\n",
    "df2\n",
    "\n",
    "df2 = df2.groupby('category')['proto'].count().to_frame().reset_index()\n",
    "df2\n",
    "\n",
    "plt.figure(figsize = (10,10))\n",
    "\n",
    "plt.rcParams.update({'font.size': 15})\n",
    "textprops = {\"fontsize\":15}\n",
    "#plt.pie(df2['is_product_recomended'], labels = df2.categories) \n",
    "plt.pie(df2['proto'], labels = df2.category,autopct = \"%0.2f%%\", # Show data in persentage for with 2 decimal point\n",
    "        shadow = True, # Showing shadow of pie chart\n",
    "        radius = 1.4, # Radius to increase or decrease the size of pie chart \n",
    "       startangle = 270, # Start angle of first section\n",
    "        textprops =textprops) \n",
    "\n",
    "plt.title('percentage of category in tcp') \n",
    "\n",
    "plt.show()"
   ]
  },
  {
   "cell_type": "markdown",
   "id": "6126b15d",
   "metadata": {
    "papermill": {
     "duration": 0.110759,
     "end_time": "2021-12-20T18:35:22.113330",
     "exception": false,
     "start_time": "2021-12-20T18:35:22.002571",
     "status": "completed"
    },
    "tags": []
   },
   "source": [
    "CHECKING HOW MUCH PERCENTAGE OF EACH ATTACK CATEGORY FOR PROTOCAL icmp"
   ]
  },
  {
   "cell_type": "code",
   "execution_count": 46,
   "id": "a1630bfc",
   "metadata": {
    "execution": {
     "iopub.execute_input": "2021-12-20T18:35:22.425444Z",
     "iopub.status.busy": "2021-12-20T18:35:22.424636Z",
     "iopub.status.idle": "2021-12-20T18:35:22.641269Z",
     "shell.execute_reply": "2021-12-20T18:35:22.642151Z",
     "shell.execute_reply.started": "2021-12-20T18:30:06.567424Z"
    },
    "papermill": {
     "duration": 0.420791,
     "end_time": "2021-12-20T18:35:22.642448",
     "exception": false,
     "start_time": "2021-12-20T18:35:22.221657",
     "status": "completed"
    },
    "tags": []
   },
   "outputs": [
    {
     "data": {
      "image/png": "[encoded data removed]",
      "text/plain": [
       "<Figure size 720x720 with 1 Axes>"
      ]
     },
     "metadata": {},
     "output_type": "display_data"
    }
   ],
   "source": [
    "df2=df[df['proto']=='icmp']\n",
    "df2\n",
    "\n",
    "df2 = df2.groupby('category')['proto'].count().to_frame().reset_index()\n",
    "df2\n",
    "\n",
    "plt.figure(figsize = (10,10))\n",
    "\n",
    "plt.rcParams.update({'font.size': 15})\n",
    "textprops = {\"fontsize\":15}\n",
    "#plt.pie(df2['is_product_recomended'], labels = df2.categories) \n",
    "plt.pie(df2['proto'], labels = df2.category,autopct = \"%0.2f%%\", # Show data in persentage for with 2 decimal point\n",
    "        shadow = True, # Showing shadow of pie chart\n",
    "        radius = 1.4, # Radius to increase or decrease the size of pie chart \n",
    "       startangle = 270, # Start angle of first section\n",
    "        textprops =textprops) \n",
    "\n",
    "plt.title('percentage of category in icmp') \n",
    "\n",
    "plt.show()"
   ]
  },
  {
   "cell_type": "markdown",
   "id": "1c2183dc",
   "metadata": {
    "papermill": {
     "duration": 0.10925,
     "end_time": "2021-12-20T18:35:22.927908",
     "exception": false,
     "start_time": "2021-12-20T18:35:22.818658",
     "status": "completed"
    },
    "tags": []
   },
   "source": [
    "CHECKING HOW MUCH PERCENTAGE OF EACH ATTACK CATEGORY FOR PROTOCAL arp"
   ]
  },
  {
   "cell_type": "code",
   "execution_count": 47,
   "id": "715cfa75",
   "metadata": {
    "execution": {
     "iopub.execute_input": "2021-12-20T18:35:23.152174Z",
     "iopub.status.busy": "2021-12-20T18:35:23.151482Z",
     "iopub.status.idle": "2021-12-20T18:35:23.480444Z",
     "shell.execute_reply": "2021-12-20T18:35:23.481038Z",
     "shell.execute_reply.started": "2021-12-20T18:30:06.896784Z"
    },
    "papermill": {
     "duration": 0.442648,
     "end_time": "2021-12-20T18:35:23.481236",
     "exception": false,
     "start_time": "2021-12-20T18:35:23.038588",
     "status": "completed"
    },
    "tags": []
   },
   "outputs": [
    {
     "data": {
      "image/png": "[encoded data removed]",
      "text/plain": [
       "<Figure size 720x720 with 1 Axes>"
      ]
     },
     "metadata": {},
     "output_type": "display_data"
    }
   ],
   "source": [
    "df2=df[df['proto']=='arp']\n",
    "df2\n",
    "\n",
    "df2 = df2.groupby('category')['proto'].count().to_frame().reset_index()\n",
    "df2\n",
    "\n",
    "plt.figure(figsize = (10,10))\n",
    "\n",
    "plt.rcParams.update({'font.size': 15})\n",
    "textprops = {\"fontsize\":15}\n",
    "#plt.pie(df2['is_product_recomended'], labels = df2.categories) \n",
    "plt.pie(df2['proto'], labels = df2.category,autopct = \"%0.2f%%\", # Show data in persentage for with 2 decimal point\n",
    "        shadow = True, # Showing shadow of pie chart\n",
    "        radius = 1.4, # Radius to increase or decrease the size of pie chart \n",
    "       startangle = 270, # Start angle of first section\n",
    "        textprops =textprops) \n",
    "\n",
    "plt.title('percentage of category in arp') \n",
    "\n",
    "plt.show()"
   ]
  },
  {
   "cell_type": "markdown",
   "id": "54b4f293",
   "metadata": {
    "papermill": {
     "duration": 0.114831,
     "end_time": "2021-12-20T18:35:23.709766",
     "exception": false,
     "start_time": "2021-12-20T18:35:23.594935",
     "status": "completed"
    },
    "tags": []
   },
   "source": [
    "CHECKING HOW MUCH PERCENTAGE OF EACH ATTACK CATEGORY FOR PROTOCAL ipv6-icmp"
   ]
  },
  {
   "cell_type": "code",
   "execution_count": 48,
   "id": "879cd98c",
   "metadata": {
    "execution": {
     "iopub.execute_input": "2021-12-20T18:35:24.030344Z",
     "iopub.status.busy": "2021-12-20T18:35:23.937468Z",
     "iopub.status.idle": "2021-12-20T18:35:24.198814Z",
     "shell.execute_reply": "2021-12-20T18:35:24.198108Z",
     "shell.execute_reply.started": "2021-12-20T18:30:07.269388Z"
    },
    "papermill": {
     "duration": 0.375933,
     "end_time": "2021-12-20T18:35:24.198977",
     "exception": false,
     "start_time": "2021-12-20T18:35:23.823044",
     "status": "completed"
    },
    "tags": []
   },
   "outputs": [
    {
     "data": {
      "image/png": "[encoded data removed]",
      "text/plain": [
       "<Figure size 720x720 with 1 Axes>"
      ]
     },
     "metadata": {},
     "output_type": "display_data"
    }
   ],
   "source": [
    "df2=df[df['proto']=='ipv6-icmp']\n",
    "df2\n",
    "\n",
    "df2 = df2.groupby('category')['proto'].count().to_frame().reset_index()\n",
    "df2\n",
    "\n",
    "plt.figure(figsize = (10,10))\n",
    "\n",
    "plt.rcParams.update({'font.size': 15})\n",
    "textprops = {\"fontsize\":15}\n",
    "#plt.pie(df2['is_product_recomended'], labels = df2.categories) \n",
    "plt.pie(df2['proto'], labels = df2.category,autopct = \"%0.2f%%\", # Show data in persentage for with 2 decimal point\n",
    "        shadow = True, # Showing shadow of pie chart\n",
    "        radius = 1.4, # Radius to increase or decrease the size of pie chart \n",
    "       startangle = 270, # Start angle of first section\n",
    "        textprops =textprops) \n",
    "\n",
    "plt.title('percentage of category in ipv6-icmp ') \n",
    "\n",
    "plt.show()\n"
   ]
  },
  {
   "cell_type": "markdown",
   "id": "93089497",
   "metadata": {
    "papermill": {
     "duration": 0.115525,
     "end_time": "2021-12-20T18:35:24.697171",
     "exception": false,
     "start_time": "2021-12-20T18:35:24.581646",
     "status": "completed"
    },
    "tags": []
   },
   "source": [
    "LABEL ENCDONG TARGET VARIABLE CATEGORY"
   ]
  },
  {
   "cell_type": "code",
   "execution_count": 50,
   "id": "962c51d6",
   "metadata": {
    "execution": {
     "iopub.execute_input": "2021-12-20T18:35:24.938119Z",
     "iopub.status.busy": "2021-12-20T18:35:24.937194Z",
     "iopub.status.idle": "2021-12-20T18:35:25.512956Z",
     "shell.execute_reply": "2021-12-20T18:35:25.513521Z",
     "shell.execute_reply.started": "2021-12-20T18:30:07.614471Z"
    },
    "papermill": {
     "duration": 0.698283,
     "end_time": "2021-12-20T18:35:25.513709",
     "exception": false,
     "start_time": "2021-12-20T18:35:24.815426",
     "status": "completed"
    },
    "tags": []
   },
   "outputs": [
    {
     "name": "stdout",
     "output_type": "stream",
     "text": [
      "{'DDoS': 0, 'DoS': 1, 'Normal': 2, 'Reconnaissance': 3, 'Theft': 4}\n"
     ]
    }
   ],
   "source": [
    "from sklearn import preprocessing\n",
    "label_encoder = preprocessing.LabelEncoder()\n",
    "df['category']= label_encoder.fit_transform(df['category'])\n",
    "dic = dict(zip(label_encoder.classes_, label_encoder.transform(label_encoder.classes_)))\n",
    "print(dic)"
   ]
  },
  {
   "cell_type": "markdown",
   "id": "60bdbacc",
   "metadata": {
    "papermill": {
     "duration": 0.117042,
     "end_time": "2021-12-20T18:35:25.747313",
     "exception": false,
     "start_time": "2021-12-20T18:35:25.630271",
     "status": "completed"
    },
    "tags": []
   },
   "source": [
    "PLOTTING CORRELATION"
   ]
  },
  {
   "cell_type": "code",
   "execution_count": 51,
   "id": "f4579153",
   "metadata": {
    "execution": {
     "iopub.execute_input": "2021-12-20T18:35:25.986307Z",
     "iopub.status.busy": "2021-12-20T18:35:25.985512Z",
     "iopub.status.idle": "2021-12-20T18:35:28.002100Z",
     "shell.execute_reply": "2021-12-20T18:35:28.002659Z",
     "shell.execute_reply.started": "2021-12-20T18:30:08.352575Z"
    },
    "papermill": {
     "duration": 2.138524,
     "end_time": "2021-12-20T18:35:28.002894",
     "exception": false,
     "start_time": "2021-12-20T18:35:25.864370",
     "status": "completed"
    },
    "tags": []
   },
   "outputs": [
    {
     "data": {
      "text/plain": [
       "<AxesSubplot:title={'center':'Correlation'}>"
      ]
     },
     "execution_count": 51,
     "metadata": {},
     "output_type": "execute_result"
    },
    {
     "data": {
      "image/png": "[encoded data removed]",
      "text/plain": [
       "<Figure size 2160x720 with 2 Axes>"
      ]
     },
     "metadata": {},
     "output_type": "display_data"
    }
   ],
   "source": [
    "\n",
    "import seaborn as sns\n",
    "plt.figure(figsize=(30,10))\n",
    "plt.title('Correlation')\n",
    "\n",
    "  \n",
    "#ploting the heatmap for correlation\n",
    "sns.heatmap(df.corr(), annot=True)"
   ]
  },
  {
   "cell_type": "code",
   "execution_count": 18,
   "id": "5242cf4e",
   "metadata": {
    "execution": {
     "iopub.execute_input": "2021-12-20T18:35:28.249455Z",
     "iopub.status.busy": "2021-12-20T18:35:28.248709Z",
     "iopub.status.idle": "2021-12-20T18:35:28.278984Z",
     "shell.execute_reply": "2021-12-20T18:35:28.279695Z",
     "shell.execute_reply.started": "2021-12-20T18:30:10.808271Z"
    },
    "papermill": {
     "duration": 0.156546,
     "end_time": "2021-12-20T18:35:28.279907",
     "exception": false,
     "start_time": "2021-12-20T18:35:28.123361",
     "status": "completed"
    },
    "tags": []
   },
   "outputs": [
    {
     "data": {
      "text/html": [
       "<div>\n",
       "<style scoped>\n",
       "    .dataframe tbody tr th:only-of-type {\n",
       "        vertical-align: middle;\n",
       "    }\n",
       "\n",
       "    .dataframe tbody tr th {\n",
       "        vertical-align: top;\n",
       "    }\n",
       "\n",
       "    .dataframe thead th {\n",
       "        text-align: right;\n",
       "    }\n",
       "</style>\n",
       "<table border=\"1\" class=\"dataframe\">\n",
       "  <thead>\n",
       "    <tr style=\"text-align: right;\">\n",
       "      <th></th>\n",
       "      <th>pkSeqID</th>\n",
       "      <th>proto</th>\n",
       "      <th>saddr</th>\n",
       "      <th>sport</th>\n",
       "      <th>daddr</th>\n",
       "      <th>dport</th>\n",
       "      <th>seq</th>\n",
       "      <th>stddev</th>\n",
       "      <th>N_IN_Conn_P_SrcIP</th>\n",
       "      <th>min</th>\n",
       "      <th>state_number</th>\n",
       "      <th>mean</th>\n",
       "      <th>N_IN_Conn_P_DstIP</th>\n",
       "      <th>drate</th>\n",
       "      <th>srate</th>\n",
       "      <th>max</th>\n",
       "      <th>attack</th>\n",
       "      <th>category</th>\n",
       "      <th>subcategory</th>\n",
       "    </tr>\n",
       "  </thead>\n",
       "  <tbody>\n",
       "    <tr>\n",
       "      <th>0</th>\n",
       "      <td>792371</td>\n",
       "      <td>udp</td>\n",
       "      <td>192.168.100.150</td>\n",
       "      <td>48516</td>\n",
       "      <td>192.168.100.3</td>\n",
       "      <td>80</td>\n",
       "      <td>175094</td>\n",
       "      <td>0.226784</td>\n",
       "      <td>100</td>\n",
       "      <td>4.100436</td>\n",
       "      <td>4</td>\n",
       "      <td>4.457383</td>\n",
       "      <td>100</td>\n",
       "      <td>0.000000</td>\n",
       "      <td>0.404711</td>\n",
       "      <td>4.719438</td>\n",
       "      <td>1</td>\n",
       "      <td>1</td>\n",
       "      <td>UDP</td>\n",
       "    </tr>\n",
       "    <tr>\n",
       "      <th>1</th>\n",
       "      <td>2056418</td>\n",
       "      <td>tcp</td>\n",
       "      <td>192.168.100.148</td>\n",
       "      <td>22267</td>\n",
       "      <td>192.168.100.3</td>\n",
       "      <td>80</td>\n",
       "      <td>143024</td>\n",
       "      <td>0.451998</td>\n",
       "      <td>100</td>\n",
       "      <td>3.439257</td>\n",
       "      <td>1</td>\n",
       "      <td>3.806172</td>\n",
       "      <td>100</td>\n",
       "      <td>0.225077</td>\n",
       "      <td>0.401397</td>\n",
       "      <td>4.442930</td>\n",
       "      <td>1</td>\n",
       "      <td>0</td>\n",
       "      <td>TCP</td>\n",
       "    </tr>\n",
       "    <tr>\n",
       "      <th>2</th>\n",
       "      <td>2795650</td>\n",
       "      <td>udp</td>\n",
       "      <td>192.168.100.149</td>\n",
       "      <td>28629</td>\n",
       "      <td>192.168.100.3</td>\n",
       "      <td>80</td>\n",
       "      <td>167033</td>\n",
       "      <td>1.931553</td>\n",
       "      <td>73</td>\n",
       "      <td>0.000000</td>\n",
       "      <td>4</td>\n",
       "      <td>2.731204</td>\n",
       "      <td>100</td>\n",
       "      <td>0.000000</td>\n",
       "      <td>0.407287</td>\n",
       "      <td>4.138455</td>\n",
       "      <td>1</td>\n",
       "      <td>0</td>\n",
       "      <td>UDP</td>\n",
       "    </tr>\n",
       "    <tr>\n",
       "      <th>3</th>\n",
       "      <td>2118009</td>\n",
       "      <td>tcp</td>\n",
       "      <td>192.168.100.148</td>\n",
       "      <td>42142</td>\n",
       "      <td>192.168.100.3</td>\n",
       "      <td>80</td>\n",
       "      <td>204615</td>\n",
       "      <td>0.428798</td>\n",
       "      <td>56</td>\n",
       "      <td>3.271411</td>\n",
       "      <td>1</td>\n",
       "      <td>3.626428</td>\n",
       "      <td>100</td>\n",
       "      <td>0.000000</td>\n",
       "      <td>0.343654</td>\n",
       "      <td>4.229700</td>\n",
       "      <td>1</td>\n",
       "      <td>0</td>\n",
       "      <td>TCP</td>\n",
       "    </tr>\n",
       "    <tr>\n",
       "      <th>4</th>\n",
       "      <td>303688</td>\n",
       "      <td>tcp</td>\n",
       "      <td>192.168.100.149</td>\n",
       "      <td>1645</td>\n",
       "      <td>192.168.100.5</td>\n",
       "      <td>80</td>\n",
       "      <td>40058</td>\n",
       "      <td>2.058381</td>\n",
       "      <td>100</td>\n",
       "      <td>0.000000</td>\n",
       "      <td>3</td>\n",
       "      <td>1.188407</td>\n",
       "      <td>100</td>\n",
       "      <td>0.000000</td>\n",
       "      <td>0.135842</td>\n",
       "      <td>4.753628</td>\n",
       "      <td>1</td>\n",
       "      <td>1</td>\n",
       "      <td>TCP</td>\n",
       "    </tr>\n",
       "    <tr>\n",
       "      <th>...</th>\n",
       "      <td>...</td>\n",
       "      <td>...</td>\n",
       "      <td>...</td>\n",
       "      <td>...</td>\n",
       "      <td>...</td>\n",
       "      <td>...</td>\n",
       "      <td>...</td>\n",
       "      <td>...</td>\n",
       "      <td>...</td>\n",
       "      <td>...</td>\n",
       "      <td>...</td>\n",
       "      <td>...</td>\n",
       "      <td>...</td>\n",
       "      <td>...</td>\n",
       "      <td>...</td>\n",
       "      <td>...</td>\n",
       "      <td>...</td>\n",
       "      <td>...</td>\n",
       "      <td>...</td>\n",
       "    </tr>\n",
       "    <tr>\n",
       "      <th>733700</th>\n",
       "      <td>1571905</td>\n",
       "      <td>udp</td>\n",
       "      <td>192.168.100.148</td>\n",
       "      <td>17412</td>\n",
       "      <td>192.168.100.6</td>\n",
       "      <td>80</td>\n",
       "      <td>168162</td>\n",
       "      <td>1.743940</td>\n",
       "      <td>39</td>\n",
       "      <td>0.000000</td>\n",
       "      <td>4</td>\n",
       "      <td>3.020449</td>\n",
       "      <td>39</td>\n",
       "      <td>0.000000</td>\n",
       "      <td>0.224603</td>\n",
       "      <td>4.043432</td>\n",
       "      <td>1</td>\n",
       "      <td>1</td>\n",
       "      <td>UDP</td>\n",
       "    </tr>\n",
       "    <tr>\n",
       "      <th>733701</th>\n",
       "      <td>2787099</td>\n",
       "      <td>udp</td>\n",
       "      <td>192.168.100.147</td>\n",
       "      <td>932</td>\n",
       "      <td>192.168.100.3</td>\n",
       "      <td>80</td>\n",
       "      <td>158482</td>\n",
       "      <td>0.694618</td>\n",
       "      <td>65</td>\n",
       "      <td>3.002272</td>\n",
       "      <td>4</td>\n",
       "      <td>3.905409</td>\n",
       "      <td>100</td>\n",
       "      <td>0.000000</td>\n",
       "      <td>0.875121</td>\n",
       "      <td>4.691634</td>\n",
       "      <td>1</td>\n",
       "      <td>0</td>\n",
       "      <td>UDP</td>\n",
       "    </tr>\n",
       "    <tr>\n",
       "      <th>733702</th>\n",
       "      <td>2255382</td>\n",
       "      <td>tcp</td>\n",
       "      <td>192.168.100.149</td>\n",
       "      <td>47980</td>\n",
       "      <td>192.168.100.3</td>\n",
       "      <td>80</td>\n",
       "      <td>79841</td>\n",
       "      <td>1.744651</td>\n",
       "      <td>53</td>\n",
       "      <td>0.000000</td>\n",
       "      <td>1</td>\n",
       "      <td>2.464288</td>\n",
       "      <td>100</td>\n",
       "      <td>0.278496</td>\n",
       "      <td>0.472773</td>\n",
       "      <td>3.802142</td>\n",
       "      <td>1</td>\n",
       "      <td>0</td>\n",
       "      <td>TCP</td>\n",
       "    </tr>\n",
       "    <tr>\n",
       "      <th>733703</th>\n",
       "      <td>588946</td>\n",
       "      <td>tcp</td>\n",
       "      <td>192.168.100.147</td>\n",
       "      <td>25096</td>\n",
       "      <td>192.168.100.7</td>\n",
       "      <td>80</td>\n",
       "      <td>63165</td>\n",
       "      <td>0.000000</td>\n",
       "      <td>100</td>\n",
       "      <td>0.000000</td>\n",
       "      <td>3</td>\n",
       "      <td>0.000000</td>\n",
       "      <td>100</td>\n",
       "      <td>0.000000</td>\n",
       "      <td>0.070461</td>\n",
       "      <td>0.000000</td>\n",
       "      <td>1</td>\n",
       "      <td>1</td>\n",
       "      <td>TCP</td>\n",
       "    </tr>\n",
       "    <tr>\n",
       "      <th>733704</th>\n",
       "      <td>2577420</td>\n",
       "      <td>tcp</td>\n",
       "      <td>192.168.100.147</td>\n",
       "      <td>34718</td>\n",
       "      <td>192.168.100.3</td>\n",
       "      <td>80</td>\n",
       "      <td>139733</td>\n",
       "      <td>0.091420</td>\n",
       "      <td>65</td>\n",
       "      <td>0.000000</td>\n",
       "      <td>3</td>\n",
       "      <td>0.052781</td>\n",
       "      <td>100</td>\n",
       "      <td>0.000000</td>\n",
       "      <td>0.093828</td>\n",
       "      <td>0.211125</td>\n",
       "      <td>1</td>\n",
       "      <td>0</td>\n",
       "      <td>TCP</td>\n",
       "    </tr>\n",
       "  </tbody>\n",
       "</table>\n",
       "<p>733705 rows × 19 columns</p>\n",
       "</div>"
      ],
      "text/plain": [
       "        pkSeqID proto            saddr  sport          daddr dport     seq  \\\n",
       "0        792371   udp  192.168.100.150  48516  192.168.100.3    80  175094   \n",
       "1       2056418   tcp  192.168.100.148  22267  192.168.100.3    80  143024   \n",
       "2       2795650   udp  192.168.100.149  28629  192.168.100.3    80  167033   \n",
       "3       2118009   tcp  192.168.100.148  42142  192.168.100.3    80  204615   \n",
       "4        303688   tcp  192.168.100.149   1645  192.168.100.5    80   40058   \n",
       "...         ...   ...              ...    ...            ...   ...     ...   \n",
       "733700  1571905   udp  192.168.100.148  17412  192.168.100.6    80  168162   \n",
       "733701  2787099   udp  192.168.100.147    932  192.168.100.3    80  158482   \n",
       "733702  2255382   tcp  192.168.100.149  47980  192.168.100.3    80   79841   \n",
       "733703   588946   tcp  192.168.100.147  25096  192.168.100.7    80   63165   \n",
       "733704  2577420   tcp  192.168.100.147  34718  192.168.100.3    80  139733   \n",
       "\n",
       "          stddev  N_IN_Conn_P_SrcIP       min  state_number      mean  \\\n",
       "0       0.226784                100  4.100436             4  4.457383   \n",
       "1       0.451998                100  3.439257             1  3.806172   \n",
       "2       1.931553                 73  0.000000             4  2.731204   \n",
       "3       0.428798                 56  3.271411             1  3.626428   \n",
       "4       2.058381                100  0.000000             3  1.188407   \n",
       "...          ...                ...       ...           ...       ...   \n",
       "733700  1.743940                 39  0.000000             4  3.020449   \n",
       "733701  0.694618                 65  3.002272             4  3.905409   \n",
       "733702  1.744651                 53  0.000000             1  2.464288   \n",
       "733703  0.000000                100  0.000000             3  0.000000   \n",
       "733704  0.091420                 65  0.000000             3  0.052781   \n",
       "\n",
       "        N_IN_Conn_P_DstIP     drate     srate       max  attack  category  \\\n",
       "0                     100  0.000000  0.404711  4.719438       1         1   \n",
       "1                     100  0.225077  0.401397  4.442930       1         0   \n",
       "2                     100  0.000000  0.407287  4.138455       1         0   \n",
       "3                     100  0.000000  0.343654  4.229700       1         0   \n",
       "4                     100  0.000000  0.135842  4.753628       1         1   \n",
       "...                   ...       ...       ...       ...     ...       ...   \n",
       "733700                 39  0.000000  0.224603  4.043432       1         1   \n",
       "733701                100  0.000000  0.875121  4.691634       1         0   \n",
       "733702                100  0.278496  0.472773  3.802142       1         0   \n",
       "733703                100  0.000000  0.070461  0.000000       1         1   \n",
       "733704                100  0.000000  0.093828  0.211125       1         0   \n",
       "\n",
       "       subcategory  \n",
       "0              UDP  \n",
       "1              TCP  \n",
       "2              UDP  \n",
       "3              TCP  \n",
       "4              TCP  \n",
       "...            ...  \n",
       "733700         UDP  \n",
       "733701         UDP  \n",
       "733702         TCP  \n",
       "733703         TCP  \n",
       "733704         TCP  \n",
       "\n",
       "[733705 rows x 19 columns]"
      ]
     },
     "execution_count": 18,
     "metadata": {},
     "output_type": "execute_result"
    }
   ],
   "source": [
    "\n",
    "df"
   ]
  },
  {
   "cell_type": "code",
   "execution_count": 52,
   "id": "04d5d240",
   "metadata": {
    "execution": {
     "iopub.execute_input": "2021-12-20T18:35:28.530331Z",
     "iopub.status.busy": "2021-12-20T18:35:28.529554Z",
     "iopub.status.idle": "2021-12-20T18:35:28.536873Z",
     "shell.execute_reply": "2021-12-20T18:35:28.537539Z",
     "shell.execute_reply.started": "2021-12-20T18:30:10.845544Z"
    },
    "papermill": {
     "duration": 0.133403,
     "end_time": "2021-12-20T18:35:28.537747",
     "exception": false,
     "start_time": "2021-12-20T18:35:28.404344",
     "status": "completed"
    },
    "tags": []
   },
   "outputs": [
    {
     "data": {
      "text/plain": [
       "0          80\n",
       "1          80\n",
       "2          80\n",
       "3          80\n",
       "4          80\n",
       "           ..\n",
       "2934812    80\n",
       "2934813    80\n",
       "2934814    80\n",
       "2934815    80\n",
       "2934816    80\n",
       "Name: dport, Length: 2934817, dtype: object"
      ]
     },
     "execution_count": 52,
     "metadata": {},
     "output_type": "execute_result"
    }
   ],
   "source": [
    "df.dport"
   ]
  },
  {
   "cell_type": "markdown",
   "id": "f6328c16",
   "metadata": {
    "papermill": {
     "duration": 0.123062,
     "end_time": "2021-12-20T18:35:28.782964",
     "exception": false,
     "start_time": "2021-12-20T18:35:28.659902",
     "status": "completed"
    },
    "tags": []
   },
   "source": [
    "DROPPING SADDR AND DADDR"
   ]
  },
  {
   "cell_type": "code",
   "execution_count": 53,
   "id": "3ec9c30d",
   "metadata": {
    "execution": {
     "iopub.execute_input": "2021-12-20T18:35:29.036193Z",
     "iopub.status.busy": "2021-12-20T18:35:29.035449Z",
     "iopub.status.idle": "2021-12-20T18:35:29.148052Z",
     "shell.execute_reply": "2021-12-20T18:35:29.148624Z",
     "shell.execute_reply.started": "2021-12-20T18:30:10.854676Z"
    },
    "papermill": {
     "duration": 0.239894,
     "end_time": "2021-12-20T18:35:29.148837",
     "exception": false,
     "start_time": "2021-12-20T18:35:28.908943",
     "status": "completed"
    },
    "tags": []
   },
   "outputs": [],
   "source": [
    "df=df.drop(['saddr'],axis=1)"
   ]
  },
  {
   "cell_type": "code",
   "execution_count": 54,
   "id": "884dcd25",
   "metadata": {
    "execution": {
     "iopub.execute_input": "2021-12-20T18:35:29.401508Z",
     "iopub.status.busy": "2021-12-20T18:35:29.400747Z",
     "iopub.status.idle": "2021-12-20T18:35:29.488465Z",
     "shell.execute_reply": "2021-12-20T18:35:29.487892Z",
     "shell.execute_reply.started": "2021-12-20T18:30:11.036285Z"
    },
    "papermill": {
     "duration": 0.216682,
     "end_time": "2021-12-20T18:35:29.488629",
     "exception": false,
     "start_time": "2021-12-20T18:35:29.271947",
     "status": "completed"
    },
    "tags": []
   },
   "outputs": [],
   "source": [
    "df=df.drop(['daddr'],axis=1)"
   ]
  },
  {
   "cell_type": "markdown",
   "id": "002154d5",
   "metadata": {
    "papermill": {
     "duration": 0.122733,
     "end_time": "2021-12-20T18:35:29.735122",
     "exception": false,
     "start_time": "2021-12-20T18:35:29.612389",
     "status": "completed"
    },
    "tags": []
   },
   "source": [
    "LABEL ENCODING THE FEATURE PROTO"
   ]
  },
  {
   "cell_type": "code",
   "execution_count": 55,
   "id": "49249563",
   "metadata": {
    "execution": {
     "iopub.execute_input": "2021-12-20T18:35:29.981985Z",
     "iopub.status.busy": "2021-12-20T18:35:29.981239Z",
     "iopub.status.idle": "2021-12-20T18:35:30.263863Z",
     "shell.execute_reply": "2021-12-20T18:35:30.263282Z",
     "shell.execute_reply.started": "2021-12-20T18:30:11.150551Z"
    },
    "papermill": {
     "duration": 0.407517,
     "end_time": "2021-12-20T18:35:30.264035",
     "exception": false,
     "start_time": "2021-12-20T18:35:29.856518",
     "status": "completed"
    },
    "tags": []
   },
   "outputs": [
    {
     "name": "stdout",
     "output_type": "stream",
     "text": [
      "{'arp': 0, 'icmp': 1, 'ipv6-icmp': 2, 'tcp': 3, 'udp': 4}\n"
     ]
    }
   ],
   "source": [
    "from sklearn import preprocessing\n",
    "label_encoder = preprocessing.LabelEncoder()\n",
    "df['proto']= label_encoder.fit_transform(df['proto'])\n",
    "dic = dict(zip(label_encoder.classes_, label_encoder.transform(label_encoder.classes_)))\n",
    "print(dic)"
   ]
  },
  {
   "cell_type": "markdown",
   "id": "6a5a45d1",
   "metadata": {
    "papermill": {
     "duration": 0.127508,
     "end_time": "2021-12-20T18:35:30.513985",
     "exception": false,
     "start_time": "2021-12-20T18:35:30.386477",
     "status": "completed"
    },
    "tags": []
   },
   "source": []
  },
  {
   "cell_type": "code",
   "execution_count": 57,
   "id": "096a8465",
   "metadata": {
    "execution": {
     "iopub.execute_input": "2021-12-20T18:35:31.048510Z",
     "iopub.status.busy": "2021-12-20T18:35:31.047820Z",
     "iopub.status.idle": "2021-12-20T18:35:31.055204Z",
     "shell.execute_reply": "2021-12-20T18:35:31.055859Z",
     "shell.execute_reply.started": "2021-12-20T18:30:11.513289Z"
    },
    "papermill": {
     "duration": 0.132841,
     "end_time": "2021-12-20T18:35:31.056048",
     "exception": false,
     "start_time": "2021-12-20T18:35:30.923207",
     "status": "completed"
    },
    "tags": []
   },
   "outputs": [
    {
     "data": {
      "text/plain": [
       "pkSeqID                int64\n",
       "proto                  int32\n",
       "sport                 object\n",
       "dport                 object\n",
       "seq                    int64\n",
       "stddev               float64\n",
       "N_IN_Conn_P_SrcIP      int64\n",
       "min                  float64\n",
       "state_number           int64\n",
       "mean                 float64\n",
       "N_IN_Conn_P_DstIP      int64\n",
       "drate                float64\n",
       "srate                float64\n",
       "max                  float64\n",
       "attack                 int64\n",
       "category               int32\n",
       "subcategory           object\n",
       "dtype: object"
      ]
     },
     "execution_count": 57,
     "metadata": {},
     "output_type": "execute_result"
    }
   ],
   "source": [
    "df.dtypes"
   ]
  },
  {
   "cell_type": "markdown",
   "id": "800827d7",
   "metadata": {
    "papermill": {
     "duration": 0.122869,
     "end_time": "2021-12-20T18:35:31.304194",
     "exception": false,
     "start_time": "2021-12-20T18:35:31.181325",
     "status": "completed"
    },
    "tags": []
   },
   "source": [
    "As featrures sport and dport is obeject and analyzing rows contaning strings"
   ]
  },
  {
   "cell_type": "code",
   "execution_count": 58,
   "id": "ebaa5bdb",
   "metadata": {
    "execution": {
     "iopub.execute_input": "2021-12-20T18:35:31.629251Z",
     "iopub.status.busy": "2021-12-20T18:35:31.554894Z",
     "iopub.status.idle": "2021-12-20T18:35:41.699260Z",
     "shell.execute_reply": "2021-12-20T18:35:41.698499Z",
     "shell.execute_reply.started": "2021-12-20T18:30:11.523823Z"
    },
    "papermill": {
     "duration": 10.271493,
     "end_time": "2021-12-20T18:35:41.699419",
     "exception": false,
     "start_time": "2021-12-20T18:35:31.427926",
     "status": "completed"
    },
    "tags": []
   },
   "outputs": [
    {
     "data": {
      "text/html": [
       "<div>\n",
       "<style scoped>\n",
       "    .dataframe tbody tr th:only-of-type {\n",
       "        vertical-align: middle;\n",
       "    }\n",
       "\n",
       "    .dataframe tbody tr th {\n",
       "        vertical-align: top;\n",
       "    }\n",
       "\n",
       "    .dataframe thead th {\n",
       "        text-align: right;\n",
       "    }\n",
       "</style>\n",
       "<table border=\"1\" class=\"dataframe\">\n",
       "  <thead>\n",
       "    <tr style=\"text-align: right;\">\n",
       "      <th></th>\n",
       "      <th>pkSeqID</th>\n",
       "      <th>proto</th>\n",
       "      <th>sport</th>\n",
       "      <th>dport</th>\n",
       "      <th>seq</th>\n",
       "      <th>stddev</th>\n",
       "      <th>N_IN_Conn_P_SrcIP</th>\n",
       "      <th>min</th>\n",
       "      <th>state_number</th>\n",
       "      <th>mean</th>\n",
       "      <th>N_IN_Conn_P_DstIP</th>\n",
       "      <th>drate</th>\n",
       "      <th>srate</th>\n",
       "      <th>max</th>\n",
       "      <th>attack</th>\n",
       "      <th>category</th>\n",
       "      <th>subcategory</th>\n",
       "    </tr>\n",
       "  </thead>\n",
       "  <tbody>\n",
       "    <tr>\n",
       "      <th>149</th>\n",
       "      <td>3606493</td>\n",
       "      <td>1</td>\n",
       "      <td>0x0303</td>\n",
       "      <td>0x0c80</td>\n",
       "      <td>11703</td>\n",
       "      <td>0.000000</td>\n",
       "      <td>43</td>\n",
       "      <td>0.000000</td>\n",
       "      <td>5</td>\n",
       "      <td>0.000000</td>\n",
       "      <td>11</td>\n",
       "      <td>0.000000</td>\n",
       "      <td>0.000000</td>\n",
       "      <td>0.000000</td>\n",
       "      <td>1</td>\n",
       "      <td>3</td>\n",
       "      <td>Service_Scan</td>\n",
       "    </tr>\n",
       "    <tr>\n",
       "      <th>399</th>\n",
       "      <td>3608842</td>\n",
       "      <td>1</td>\n",
       "      <td>0x0303</td>\n",
       "      <td>0x42e0</td>\n",
       "      <td>14203</td>\n",
       "      <td>0.000000</td>\n",
       "      <td>42</td>\n",
       "      <td>0.000000</td>\n",
       "      <td>5</td>\n",
       "      <td>0.000000</td>\n",
       "      <td>11</td>\n",
       "      <td>0.000000</td>\n",
       "      <td>0.000000</td>\n",
       "      <td>0.000000</td>\n",
       "      <td>1</td>\n",
       "      <td>3</td>\n",
       "      <td>Service_Scan</td>\n",
       "    </tr>\n",
       "    <tr>\n",
       "      <th>599</th>\n",
       "      <td>3603747</td>\n",
       "      <td>1</td>\n",
       "      <td>0x0303</td>\n",
       "      <td>0x697a</td>\n",
       "      <td>8774</td>\n",
       "      <td>0.000000</td>\n",
       "      <td>42</td>\n",
       "      <td>0.000000</td>\n",
       "      <td>5</td>\n",
       "      <td>0.000000</td>\n",
       "      <td>10</td>\n",
       "      <td>0.000000</td>\n",
       "      <td>0.000000</td>\n",
       "      <td>0.000000</td>\n",
       "      <td>1</td>\n",
       "      <td>3</td>\n",
       "      <td>Service_Scan</td>\n",
       "    </tr>\n",
       "    <tr>\n",
       "      <th>703</th>\n",
       "      <td>3642170</td>\n",
       "      <td>1</td>\n",
       "      <td>0x0303</td>\n",
       "      <td>0x0102</td>\n",
       "      <td>18814</td>\n",
       "      <td>0.000000</td>\n",
       "      <td>44</td>\n",
       "      <td>0.000000</td>\n",
       "      <td>5</td>\n",
       "      <td>0.000000</td>\n",
       "      <td>13</td>\n",
       "      <td>0.000000</td>\n",
       "      <td>0.001345</td>\n",
       "      <td>0.000000</td>\n",
       "      <td>1</td>\n",
       "      <td>3</td>\n",
       "      <td>Service_Scan</td>\n",
       "    </tr>\n",
       "    <tr>\n",
       "      <th>1132</th>\n",
       "      <td>3606542</td>\n",
       "      <td>1</td>\n",
       "      <td>0x0303</td>\n",
       "      <td>0x0db4</td>\n",
       "      <td>11755</td>\n",
       "      <td>0.000000</td>\n",
       "      <td>42</td>\n",
       "      <td>0.000000</td>\n",
       "      <td>5</td>\n",
       "      <td>0.000000</td>\n",
       "      <td>11</td>\n",
       "      <td>0.000000</td>\n",
       "      <td>0.000000</td>\n",
       "      <td>0.000000</td>\n",
       "      <td>1</td>\n",
       "      <td>3</td>\n",
       "      <td>Service_Scan</td>\n",
       "    </tr>\n",
       "    <tr>\n",
       "      <th>...</th>\n",
       "      <td>...</td>\n",
       "      <td>...</td>\n",
       "      <td>...</td>\n",
       "      <td>...</td>\n",
       "      <td>...</td>\n",
       "      <td>...</td>\n",
       "      <td>...</td>\n",
       "      <td>...</td>\n",
       "      <td>...</td>\n",
       "      <td>...</td>\n",
       "      <td>...</td>\n",
       "      <td>...</td>\n",
       "      <td>...</td>\n",
       "      <td>...</td>\n",
       "      <td>...</td>\n",
       "      <td>...</td>\n",
       "      <td>...</td>\n",
       "    </tr>\n",
       "    <tr>\n",
       "      <th>1266944</th>\n",
       "      <td>3585754</td>\n",
       "      <td>1</td>\n",
       "      <td>0x000d</td>\n",
       "      <td>0x0000</td>\n",
       "      <td>8504</td>\n",
       "      <td>0.000024</td>\n",
       "      <td>12</td>\n",
       "      <td>0.000146</td>\n",
       "      <td>10</td>\n",
       "      <td>0.000179</td>\n",
       "      <td>31</td>\n",
       "      <td>0.002385</td>\n",
       "      <td>0.002385</td>\n",
       "      <td>0.000200</td>\n",
       "      <td>1</td>\n",
       "      <td>3</td>\n",
       "      <td>OS_Fingerprint</td>\n",
       "    </tr>\n",
       "    <tr>\n",
       "      <th>1391662</th>\n",
       "      <td>3590506</td>\n",
       "      <td>1</td>\n",
       "      <td>0x000d</td>\n",
       "      <td>0x0000</td>\n",
       "      <td>13281</td>\n",
       "      <td>0.000018</td>\n",
       "      <td>5</td>\n",
       "      <td>0.000042</td>\n",
       "      <td>10</td>\n",
       "      <td>0.000061</td>\n",
       "      <td>91</td>\n",
       "      <td>0.002389</td>\n",
       "      <td>0.002389</td>\n",
       "      <td>0.000094</td>\n",
       "      <td>1</td>\n",
       "      <td>3</td>\n",
       "      <td>OS_Fingerprint</td>\n",
       "    </tr>\n",
       "    <tr>\n",
       "      <th>1833363</th>\n",
       "      <td>3581558</td>\n",
       "      <td>1</td>\n",
       "      <td>0x000d</td>\n",
       "      <td>0x0000</td>\n",
       "      <td>4286</td>\n",
       "      <td>0.000040</td>\n",
       "      <td>11</td>\n",
       "      <td>0.000072</td>\n",
       "      <td>10</td>\n",
       "      <td>0.000132</td>\n",
       "      <td>30</td>\n",
       "      <td>0.002387</td>\n",
       "      <td>0.002387</td>\n",
       "      <td>0.000196</td>\n",
       "      <td>1</td>\n",
       "      <td>3</td>\n",
       "      <td>OS_Fingerprint</td>\n",
       "    </tr>\n",
       "    <tr>\n",
       "      <th>2070972</th>\n",
       "      <td>3577378</td>\n",
       "      <td>1</td>\n",
       "      <td>0x000d</td>\n",
       "      <td>0x0000</td>\n",
       "      <td>90</td>\n",
       "      <td>0.000020</td>\n",
       "      <td>6</td>\n",
       "      <td>0.000003</td>\n",
       "      <td>10</td>\n",
       "      <td>0.000033</td>\n",
       "      <td>26</td>\n",
       "      <td>0.002388</td>\n",
       "      <td>0.002388</td>\n",
       "      <td>0.000064</td>\n",
       "      <td>1</td>\n",
       "      <td>3</td>\n",
       "      <td>OS_Fingerprint</td>\n",
       "    </tr>\n",
       "    <tr>\n",
       "      <th>2258549</th>\n",
       "      <td>3590496</td>\n",
       "      <td>1</td>\n",
       "      <td>0x000d</td>\n",
       "      <td>0x0000</td>\n",
       "      <td>13267</td>\n",
       "      <td>0.000018</td>\n",
       "      <td>24</td>\n",
       "      <td>0.000072</td>\n",
       "      <td>10</td>\n",
       "      <td>0.000099</td>\n",
       "      <td>9</td>\n",
       "      <td>0.002387</td>\n",
       "      <td>0.002387</td>\n",
       "      <td>0.000129</td>\n",
       "      <td>1</td>\n",
       "      <td>3</td>\n",
       "      <td>OS_Fingerprint</td>\n",
       "    </tr>\n",
       "  </tbody>\n",
       "</table>\n",
       "<p>7238 rows × 17 columns</p>\n",
       "</div>"
      ],
      "text/plain": [
       "         pkSeqID  proto   sport   dport    seq    stddev  N_IN_Conn_P_SrcIP  \\\n",
       "149      3606493      1  0x0303  0x0c80  11703  0.000000                 43   \n",
       "399      3608842      1  0x0303  0x42e0  14203  0.000000                 42   \n",
       "599      3603747      1  0x0303  0x697a   8774  0.000000                 42   \n",
       "703      3642170      1  0x0303  0x0102  18814  0.000000                 44   \n",
       "1132     3606542      1  0x0303  0x0db4  11755  0.000000                 42   \n",
       "...          ...    ...     ...     ...    ...       ...                ...   \n",
       "1266944  3585754      1  0x000d  0x0000   8504  0.000024                 12   \n",
       "1391662  3590506      1  0x000d  0x0000  13281  0.000018                  5   \n",
       "1833363  3581558      1  0x000d  0x0000   4286  0.000040                 11   \n",
       "2070972  3577378      1  0x000d  0x0000     90  0.000020                  6   \n",
       "2258549  3590496      1  0x000d  0x0000  13267  0.000018                 24   \n",
       "\n",
       "              min  state_number      mean  N_IN_Conn_P_DstIP     drate  \\\n",
       "149      0.000000             5  0.000000                 11  0.000000   \n",
       "399      0.000000             5  0.000000                 11  0.000000   \n",
       "599      0.000000             5  0.000000                 10  0.000000   \n",
       "703      0.000000             5  0.000000                 13  0.000000   \n",
       "1132     0.000000             5  0.000000                 11  0.000000   \n",
       "...           ...           ...       ...                ...       ...   \n",
       "1266944  0.000146            10  0.000179                 31  0.002385   \n",
       "1391662  0.000042            10  0.000061                 91  0.002389   \n",
       "1833363  0.000072            10  0.000132                 30  0.002387   \n",
       "2070972  0.000003            10  0.000033                 26  0.002388   \n",
       "2258549  0.000072            10  0.000099                  9  0.002387   \n",
       "\n",
       "            srate       max  attack  category     subcategory  \n",
       "149      0.000000  0.000000       1         3    Service_Scan  \n",
       "399      0.000000  0.000000       1         3    Service_Scan  \n",
       "599      0.000000  0.000000       1         3    Service_Scan  \n",
       "703      0.001345  0.000000       1         3    Service_Scan  \n",
       "1132     0.000000  0.000000       1         3    Service_Scan  \n",
       "...           ...       ...     ...       ...             ...  \n",
       "1266944  0.002385  0.000200       1         3  OS_Fingerprint  \n",
       "1391662  0.002389  0.000094       1         3  OS_Fingerprint  \n",
       "1833363  0.002387  0.000196       1         3  OS_Fingerprint  \n",
       "2070972  0.002388  0.000064       1         3  OS_Fingerprint  \n",
       "2258549  0.002387  0.000129       1         3  OS_Fingerprint  \n",
       "\n",
       "[7238 rows x 17 columns]"
      ]
     },
     "execution_count": 58,
     "metadata": {},
     "output_type": "execute_result"
    }
   ],
   "source": [
    "import string\n",
    "df4 = pd.DataFrame()\n",
    "f=1\n",
    "for i in string.ascii_lowercase:\n",
    "     df1 = df[df['sport'].str.contains(i)]\n",
    "     \n",
    "    \n",
    "     if(df1.size>0):\n",
    "         frames = [df1, df4]\n",
    "  \n",
    "         df4 = pd.concat(frames)\n",
    "         #print(df1['category'])\n",
    "df4\n"
   ]
  },
  {
   "cell_type": "code",
   "execution_count": 59,
   "id": "b1347fa9",
   "metadata": {
    "execution": {
     "iopub.execute_input": "2021-12-20T18:35:41.957029Z",
     "iopub.status.busy": "2021-12-20T18:35:41.956262Z",
     "iopub.status.idle": "2021-12-20T18:35:42.214840Z",
     "shell.execute_reply": "2021-12-20T18:35:42.214202Z",
     "shell.execute_reply.started": "2021-12-20T18:30:21.188820Z"
    },
    "papermill": {
     "duration": 0.392332,
     "end_time": "2021-12-20T18:35:42.215031",
     "exception": false,
     "start_time": "2021-12-20T18:35:41.822699",
     "status": "completed"
    },
    "tags": []
   },
   "outputs": [
    {
     "data": {
      "image/png": "[encoded data removed]",
      "text/plain": [
       "<Figure size 432x288 with 1 Axes>"
      ]
     },
     "metadata": {},
     "output_type": "display_data"
    }
   ],
   "source": [
    "import seaborn as sns\n",
    "sns.set_theme(style=\"darkgrid\")\n",
    "\n",
    "ax = sns.countplot(x=\"category\", data=df4)"
   ]
  },
  {
   "cell_type": "markdown",
   "id": "36140e33",
   "metadata": {
    "papermill": {
     "duration": 0.125489,
     "end_time": "2021-12-20T18:35:42.466544",
     "exception": false,
     "start_time": "2021-12-20T18:35:42.341055",
     "status": "completed"
    },
    "tags": []
   },
   "source": [
    "INFERENCE: rows containg string in sport ends up with category 3(Reconnaissance) type attack"
   ]
  },
  {
   "cell_type": "code",
   "execution_count": 60,
   "id": "9b14616c",
   "metadata": {
    "execution": {
     "iopub.execute_input": "2021-12-20T18:35:42.719345Z",
     "iopub.status.busy": "2021-12-20T18:35:42.718632Z",
     "iopub.status.idle": "2021-12-20T18:35:52.195193Z",
     "shell.execute_reply": "2021-12-20T18:35:52.194584Z",
     "shell.execute_reply.started": "2021-12-20T18:30:21.416234Z"
    },
    "papermill": {
     "duration": 9.60447,
     "end_time": "2021-12-20T18:35:52.195355",
     "exception": false,
     "start_time": "2021-12-20T18:35:42.590885",
     "status": "completed"
    },
    "tags": []
   },
   "outputs": [
    {
     "data": {
      "text/html": [
       "<div>\n",
       "<style scoped>\n",
       "    .dataframe tbody tr th:only-of-type {\n",
       "        vertical-align: middle;\n",
       "    }\n",
       "\n",
       "    .dataframe tbody tr th {\n",
       "        vertical-align: top;\n",
       "    }\n",
       "\n",
       "    .dataframe thead th {\n",
       "        text-align: right;\n",
       "    }\n",
       "</style>\n",
       "<table border=\"1\" class=\"dataframe\">\n",
       "  <thead>\n",
       "    <tr style=\"text-align: right;\">\n",
       "      <th></th>\n",
       "      <th>pkSeqID</th>\n",
       "      <th>proto</th>\n",
       "      <th>sport</th>\n",
       "      <th>dport</th>\n",
       "      <th>seq</th>\n",
       "      <th>stddev</th>\n",
       "      <th>N_IN_Conn_P_SrcIP</th>\n",
       "      <th>min</th>\n",
       "      <th>state_number</th>\n",
       "      <th>mean</th>\n",
       "      <th>N_IN_Conn_P_DstIP</th>\n",
       "      <th>drate</th>\n",
       "      <th>srate</th>\n",
       "      <th>max</th>\n",
       "      <th>attack</th>\n",
       "      <th>category</th>\n",
       "      <th>subcategory</th>\n",
       "    </tr>\n",
       "  </thead>\n",
       "  <tbody>\n",
       "    <tr>\n",
       "      <th>149</th>\n",
       "      <td>3606493</td>\n",
       "      <td>1</td>\n",
       "      <td>0x0303</td>\n",
       "      <td>0x0c80</td>\n",
       "      <td>11703</td>\n",
       "      <td>0.0</td>\n",
       "      <td>43</td>\n",
       "      <td>0.0</td>\n",
       "      <td>5</td>\n",
       "      <td>0.0</td>\n",
       "      <td>11</td>\n",
       "      <td>0.0</td>\n",
       "      <td>0.000000</td>\n",
       "      <td>0.0</td>\n",
       "      <td>1</td>\n",
       "      <td>3</td>\n",
       "      <td>Service_Scan</td>\n",
       "    </tr>\n",
       "    <tr>\n",
       "      <th>399</th>\n",
       "      <td>3608842</td>\n",
       "      <td>1</td>\n",
       "      <td>0x0303</td>\n",
       "      <td>0x42e0</td>\n",
       "      <td>14203</td>\n",
       "      <td>0.0</td>\n",
       "      <td>42</td>\n",
       "      <td>0.0</td>\n",
       "      <td>5</td>\n",
       "      <td>0.0</td>\n",
       "      <td>11</td>\n",
       "      <td>0.0</td>\n",
       "      <td>0.000000</td>\n",
       "      <td>0.0</td>\n",
       "      <td>1</td>\n",
       "      <td>3</td>\n",
       "      <td>Service_Scan</td>\n",
       "    </tr>\n",
       "    <tr>\n",
       "      <th>599</th>\n",
       "      <td>3603747</td>\n",
       "      <td>1</td>\n",
       "      <td>0x0303</td>\n",
       "      <td>0x697a</td>\n",
       "      <td>8774</td>\n",
       "      <td>0.0</td>\n",
       "      <td>42</td>\n",
       "      <td>0.0</td>\n",
       "      <td>5</td>\n",
       "      <td>0.0</td>\n",
       "      <td>10</td>\n",
       "      <td>0.0</td>\n",
       "      <td>0.000000</td>\n",
       "      <td>0.0</td>\n",
       "      <td>1</td>\n",
       "      <td>3</td>\n",
       "      <td>Service_Scan</td>\n",
       "    </tr>\n",
       "    <tr>\n",
       "      <th>703</th>\n",
       "      <td>3642170</td>\n",
       "      <td>1</td>\n",
       "      <td>0x0303</td>\n",
       "      <td>0x0102</td>\n",
       "      <td>18814</td>\n",
       "      <td>0.0</td>\n",
       "      <td>44</td>\n",
       "      <td>0.0</td>\n",
       "      <td>5</td>\n",
       "      <td>0.0</td>\n",
       "      <td>13</td>\n",
       "      <td>0.0</td>\n",
       "      <td>0.001345</td>\n",
       "      <td>0.0</td>\n",
       "      <td>1</td>\n",
       "      <td>3</td>\n",
       "      <td>Service_Scan</td>\n",
       "    </tr>\n",
       "    <tr>\n",
       "      <th>1132</th>\n",
       "      <td>3606542</td>\n",
       "      <td>1</td>\n",
       "      <td>0x0303</td>\n",
       "      <td>0x0db4</td>\n",
       "      <td>11755</td>\n",
       "      <td>0.0</td>\n",
       "      <td>42</td>\n",
       "      <td>0.0</td>\n",
       "      <td>5</td>\n",
       "      <td>0.0</td>\n",
       "      <td>11</td>\n",
       "      <td>0.0</td>\n",
       "      <td>0.000000</td>\n",
       "      <td>0.0</td>\n",
       "      <td>1</td>\n",
       "      <td>3</td>\n",
       "      <td>Service_Scan</td>\n",
       "    </tr>\n",
       "    <tr>\n",
       "      <th>...</th>\n",
       "      <td>...</td>\n",
       "      <td>...</td>\n",
       "      <td>...</td>\n",
       "      <td>...</td>\n",
       "      <td>...</td>\n",
       "      <td>...</td>\n",
       "      <td>...</td>\n",
       "      <td>...</td>\n",
       "      <td>...</td>\n",
       "      <td>...</td>\n",
       "      <td>...</td>\n",
       "      <td>...</td>\n",
       "      <td>...</td>\n",
       "      <td>...</td>\n",
       "      <td>...</td>\n",
       "      <td>...</td>\n",
       "      <td>...</td>\n",
       "    </tr>\n",
       "    <tr>\n",
       "      <th>2928255</th>\n",
       "      <td>3606267</td>\n",
       "      <td>1</td>\n",
       "      <td>0x0303</td>\n",
       "      <td>0x005a</td>\n",
       "      <td>11461</td>\n",
       "      <td>0.0</td>\n",
       "      <td>43</td>\n",
       "      <td>0.0</td>\n",
       "      <td>5</td>\n",
       "      <td>0.0</td>\n",
       "      <td>11</td>\n",
       "      <td>0.0</td>\n",
       "      <td>0.000000</td>\n",
       "      <td>0.0</td>\n",
       "      <td>1</td>\n",
       "      <td>3</td>\n",
       "      <td>Service_Scan</td>\n",
       "    </tr>\n",
       "    <tr>\n",
       "      <th>2931266</th>\n",
       "      <td>3638942</td>\n",
       "      <td>1</td>\n",
       "      <td>0x0303</td>\n",
       "      <td>0xab61</td>\n",
       "      <td>15364</td>\n",
       "      <td>0.0</td>\n",
       "      <td>42</td>\n",
       "      <td>0.0</td>\n",
       "      <td>5</td>\n",
       "      <td>0.0</td>\n",
       "      <td>11</td>\n",
       "      <td>0.0</td>\n",
       "      <td>0.000000</td>\n",
       "      <td>0.0</td>\n",
       "      <td>1</td>\n",
       "      <td>3</td>\n",
       "      <td>Service_Scan</td>\n",
       "    </tr>\n",
       "    <tr>\n",
       "      <th>2932004</th>\n",
       "      <td>3601593</td>\n",
       "      <td>1</td>\n",
       "      <td>0x0303</td>\n",
       "      <td>0xa506</td>\n",
       "      <td>6473</td>\n",
       "      <td>0.0</td>\n",
       "      <td>42</td>\n",
       "      <td>0.0</td>\n",
       "      <td>5</td>\n",
       "      <td>0.0</td>\n",
       "      <td>11</td>\n",
       "      <td>0.0</td>\n",
       "      <td>0.000000</td>\n",
       "      <td>0.0</td>\n",
       "      <td>1</td>\n",
       "      <td>3</td>\n",
       "      <td>Service_Scan</td>\n",
       "    </tr>\n",
       "    <tr>\n",
       "      <th>2932729</th>\n",
       "      <td>3656127</td>\n",
       "      <td>1</td>\n",
       "      <td>0x0303</td>\n",
       "      <td>0x95ba</td>\n",
       "      <td>33187</td>\n",
       "      <td>0.0</td>\n",
       "      <td>26</td>\n",
       "      <td>0.0</td>\n",
       "      <td>5</td>\n",
       "      <td>0.0</td>\n",
       "      <td>4</td>\n",
       "      <td>0.0</td>\n",
       "      <td>0.000000</td>\n",
       "      <td>0.0</td>\n",
       "      <td>1</td>\n",
       "      <td>3</td>\n",
       "      <td>Service_Scan</td>\n",
       "    </tr>\n",
       "    <tr>\n",
       "      <th>2934534</th>\n",
       "      <td>3603434</td>\n",
       "      <td>1</td>\n",
       "      <td>0x0303</td>\n",
       "      <td>0x3ac0</td>\n",
       "      <td>8437</td>\n",
       "      <td>0.0</td>\n",
       "      <td>42</td>\n",
       "      <td>0.0</td>\n",
       "      <td>5</td>\n",
       "      <td>0.0</td>\n",
       "      <td>10</td>\n",
       "      <td>0.0</td>\n",
       "      <td>0.000000</td>\n",
       "      <td>0.0</td>\n",
       "      <td>1</td>\n",
       "      <td>3</td>\n",
       "      <td>Service_Scan</td>\n",
       "    </tr>\n",
       "  </tbody>\n",
       "</table>\n",
       "<p>14816 rows × 17 columns</p>\n",
       "</div>"
      ],
      "text/plain": [
       "         pkSeqID  proto   sport   dport    seq  stddev  N_IN_Conn_P_SrcIP  \\\n",
       "149      3606493      1  0x0303  0x0c80  11703     0.0                 43   \n",
       "399      3608842      1  0x0303  0x42e0  14203     0.0                 42   \n",
       "599      3603747      1  0x0303  0x697a   8774     0.0                 42   \n",
       "703      3642170      1  0x0303  0x0102  18814     0.0                 44   \n",
       "1132     3606542      1  0x0303  0x0db4  11755     0.0                 42   \n",
       "...          ...    ...     ...     ...    ...     ...                ...   \n",
       "2928255  3606267      1  0x0303  0x005a  11461     0.0                 43   \n",
       "2931266  3638942      1  0x0303  0xab61  15364     0.0                 42   \n",
       "2932004  3601593      1  0x0303  0xa506   6473     0.0                 42   \n",
       "2932729  3656127      1  0x0303  0x95ba  33187     0.0                 26   \n",
       "2934534  3603434      1  0x0303  0x3ac0   8437     0.0                 42   \n",
       "\n",
       "         min  state_number  mean  N_IN_Conn_P_DstIP  drate     srate  max  \\\n",
       "149      0.0             5   0.0                 11    0.0  0.000000  0.0   \n",
       "399      0.0             5   0.0                 11    0.0  0.000000  0.0   \n",
       "599      0.0             5   0.0                 10    0.0  0.000000  0.0   \n",
       "703      0.0             5   0.0                 13    0.0  0.001345  0.0   \n",
       "1132     0.0             5   0.0                 11    0.0  0.000000  0.0   \n",
       "...      ...           ...   ...                ...    ...       ...  ...   \n",
       "2928255  0.0             5   0.0                 11    0.0  0.000000  0.0   \n",
       "2931266  0.0             5   0.0                 11    0.0  0.000000  0.0   \n",
       "2932004  0.0             5   0.0                 11    0.0  0.000000  0.0   \n",
       "2932729  0.0             5   0.0                  4    0.0  0.000000  0.0   \n",
       "2934534  0.0             5   0.0                 10    0.0  0.000000  0.0   \n",
       "\n",
       "         attack  category   subcategory  \n",
       "149           1         3  Service_Scan  \n",
       "399           1         3  Service_Scan  \n",
       "599           1         3  Service_Scan  \n",
       "703           1         3  Service_Scan  \n",
       "1132          1         3  Service_Scan  \n",
       "...         ...       ...           ...  \n",
       "2928255       1         3  Service_Scan  \n",
       "2931266       1         3  Service_Scan  \n",
       "2932004       1         3  Service_Scan  \n",
       "2932729       1         3  Service_Scan  \n",
       "2934534       1         3  Service_Scan  \n",
       "\n",
       "[14816 rows x 17 columns]"
      ]
     },
     "execution_count": 60,
     "metadata": {},
     "output_type": "execute_result"
    }
   ],
   "source": [
    "import string\n",
    "df4 = pd.DataFrame()\n",
    "f=1\n",
    "for i in string.ascii_lowercase:\n",
    "     df1 = df[df['dport'].str.contains(i)]\n",
    "     \n",
    "    \n",
    "     if(df1.size>0):\n",
    "         frames = [df1, df4]\n",
    "  \n",
    "         df4 = pd.concat(frames)\n",
    "         #print(df1['category'])\n",
    "df4\n"
   ]
  },
  {
   "cell_type": "markdown",
   "id": "2216a1f2",
   "metadata": {
    "papermill": {
     "duration": 0.136909,
     "end_time": "2021-12-20T18:35:52.472515",
     "exception": false,
     "start_time": "2021-12-20T18:35:52.335606",
     "status": "completed"
    },
    "tags": []
   },
   "source": []
  },
  {
   "cell_type": "code",
   "execution_count": 61,
   "id": "396e05db",
   "metadata": {
    "execution": {
     "iopub.execute_input": "2021-12-20T18:35:52.730419Z",
     "iopub.status.busy": "2021-12-20T18:35:52.729648Z",
     "iopub.status.idle": "2021-12-20T18:35:53.003360Z",
     "shell.execute_reply": "2021-12-20T18:35:53.004097Z",
     "shell.execute_reply.started": "2021-12-20T18:30:30.533634Z"
    },
    "papermill": {
     "duration": 0.405742,
     "end_time": "2021-12-20T18:35:53.004299",
     "exception": false,
     "start_time": "2021-12-20T18:35:52.598557",
     "status": "completed"
    },
    "tags": []
   },
   "outputs": [
    {
     "data": {
      "image/png": "[encoded data removed]",
      "text/plain": [
       "<Figure size 432x288 with 1 Axes>"
      ]
     },
     "metadata": {},
     "output_type": "display_data"
    }
   ],
   "source": [
    "import seaborn as sns\n",
    "sns.set_theme(style=\"darkgrid\")\n",
    "\n",
    "ax = sns.countplot(x=\"category\", data=df4)"
   ]
  },
  {
   "cell_type": "markdown",
   "id": "168288e9",
   "metadata": {
    "papermill": {
     "duration": 0.128697,
     "end_time": "2021-12-20T18:35:53.263719",
     "exception": false,
     "start_time": "2021-12-20T18:35:53.135022",
     "status": "completed"
    },
    "tags": []
   },
   "source": [
    "INFERENCE: rows containg string in dport ends up with category 3(Reconnaissance) type attack"
   ]
  },
  {
   "cell_type": "markdown",
   "id": "914b3320",
   "metadata": {
    "papermill": {
     "duration": 0.126607,
     "end_time": "2021-12-20T18:35:53.769923",
     "exception": false,
     "start_time": "2021-12-20T18:35:53.643316",
     "status": "completed"
    },
    "tags": []
   },
   "source": [
    "Hence all rows containg string in features sport and dport end up with Reconnaissance attack , hence it can be encoded with a negetive to help model in its prediction"
   ]
  },
  {
   "cell_type": "code",
   "execution_count": 62,
   "id": "56b2f6bf",
   "metadata": {
    "execution": {
     "iopub.execute_input": "2021-12-20T18:35:54.031301Z",
     "iopub.status.busy": "2021-12-20T18:35:54.030351Z",
     "iopub.status.idle": "2021-12-20T18:37:39.003380Z",
     "shell.execute_reply": "2021-12-20T18:37:39.004136Z",
     "shell.execute_reply.started": "2021-12-20T18:30:30.752970Z"
    },
    "papermill": {
     "duration": 105.105633,
     "end_time": "2021-12-20T18:37:39.004353",
     "exception": false,
     "start_time": "2021-12-20T18:35:53.898720",
     "status": "completed"
    },
    "tags": []
   },
   "outputs": [
    {
     "data": {
      "text/html": [
       "<div>\n",
       "<style scoped>\n",
       "    .dataframe tbody tr th:only-of-type {\n",
       "        vertical-align: middle;\n",
       "    }\n",
       "\n",
       "    .dataframe tbody tr th {\n",
       "        vertical-align: top;\n",
       "    }\n",
       "\n",
       "    .dataframe thead th {\n",
       "        text-align: right;\n",
       "    }\n",
       "</style>\n",
       "<table border=\"1\" class=\"dataframe\">\n",
       "  <thead>\n",
       "    <tr style=\"text-align: right;\">\n",
       "      <th></th>\n",
       "      <th>pkSeqID</th>\n",
       "      <th>proto</th>\n",
       "      <th>sport</th>\n",
       "      <th>dport</th>\n",
       "      <th>seq</th>\n",
       "      <th>stddev</th>\n",
       "      <th>N_IN_Conn_P_SrcIP</th>\n",
       "      <th>min</th>\n",
       "      <th>state_number</th>\n",
       "      <th>mean</th>\n",
       "      <th>N_IN_Conn_P_DstIP</th>\n",
       "      <th>drate</th>\n",
       "      <th>srate</th>\n",
       "      <th>max</th>\n",
       "      <th>attack</th>\n",
       "      <th>category</th>\n",
       "      <th>subcategory</th>\n",
       "    </tr>\n",
       "  </thead>\n",
       "  <tbody>\n",
       "    <tr>\n",
       "      <th>0</th>\n",
       "      <td>3142762</td>\n",
       "      <td>4</td>\n",
       "      <td>6551</td>\n",
       "      <td>80</td>\n",
       "      <td>251984</td>\n",
       "      <td>1.900363</td>\n",
       "      <td>100</td>\n",
       "      <td>0.000000</td>\n",
       "      <td>4</td>\n",
       "      <td>2.687519</td>\n",
       "      <td>100</td>\n",
       "      <td>0.000000</td>\n",
       "      <td>0.494549</td>\n",
       "      <td>4.031619</td>\n",
       "      <td>1</td>\n",
       "      <td>0</td>\n",
       "      <td>UDP</td>\n",
       "    </tr>\n",
       "    <tr>\n",
       "      <th>1</th>\n",
       "      <td>2432264</td>\n",
       "      <td>3</td>\n",
       "      <td>5532</td>\n",
       "      <td>80</td>\n",
       "      <td>256724</td>\n",
       "      <td>0.078003</td>\n",
       "      <td>38</td>\n",
       "      <td>3.856930</td>\n",
       "      <td>3</td>\n",
       "      <td>3.934927</td>\n",
       "      <td>100</td>\n",
       "      <td>0.000000</td>\n",
       "      <td>0.256493</td>\n",
       "      <td>4.012924</td>\n",
       "      <td>1</td>\n",
       "      <td>0</td>\n",
       "      <td>TCP</td>\n",
       "    </tr>\n",
       "    <tr>\n",
       "      <th>2</th>\n",
       "      <td>1976315</td>\n",
       "      <td>3</td>\n",
       "      <td>27165</td>\n",
       "      <td>80</td>\n",
       "      <td>62921</td>\n",
       "      <td>0.268666</td>\n",
       "      <td>100</td>\n",
       "      <td>2.974100</td>\n",
       "      <td>3</td>\n",
       "      <td>3.341429</td>\n",
       "      <td>100</td>\n",
       "      <td>0.000000</td>\n",
       "      <td>0.294880</td>\n",
       "      <td>3.609205</td>\n",
       "      <td>1</td>\n",
       "      <td>0</td>\n",
       "      <td>TCP</td>\n",
       "    </tr>\n",
       "    <tr>\n",
       "      <th>3</th>\n",
       "      <td>1240757</td>\n",
       "      <td>4</td>\n",
       "      <td>48719</td>\n",
       "      <td>80</td>\n",
       "      <td>99168</td>\n",
       "      <td>1.823185</td>\n",
       "      <td>63</td>\n",
       "      <td>0.000000</td>\n",
       "      <td>4</td>\n",
       "      <td>3.222832</td>\n",
       "      <td>63</td>\n",
       "      <td>0.000000</td>\n",
       "      <td>0.461435</td>\n",
       "      <td>4.942302</td>\n",
       "      <td>1</td>\n",
       "      <td>1</td>\n",
       "      <td>UDP</td>\n",
       "    </tr>\n",
       "    <tr>\n",
       "      <th>4</th>\n",
       "      <td>3257991</td>\n",
       "      <td>4</td>\n",
       "      <td>22461</td>\n",
       "      <td>80</td>\n",
       "      <td>105063</td>\n",
       "      <td>0.822418</td>\n",
       "      <td>100</td>\n",
       "      <td>2.979995</td>\n",
       "      <td>4</td>\n",
       "      <td>3.983222</td>\n",
       "      <td>100</td>\n",
       "      <td>0.000000</td>\n",
       "      <td>1.002999</td>\n",
       "      <td>4.994452</td>\n",
       "      <td>1</td>\n",
       "      <td>0</td>\n",
       "      <td>UDP</td>\n",
       "    </tr>\n",
       "    <tr>\n",
       "      <th>...</th>\n",
       "      <td>...</td>\n",
       "      <td>...</td>\n",
       "      <td>...</td>\n",
       "      <td>...</td>\n",
       "      <td>...</td>\n",
       "      <td>...</td>\n",
       "      <td>...</td>\n",
       "      <td>...</td>\n",
       "      <td>...</td>\n",
       "      <td>...</td>\n",
       "      <td>...</td>\n",
       "      <td>...</td>\n",
       "      <td>...</td>\n",
       "      <td>...</td>\n",
       "      <td>...</td>\n",
       "      <td>...</td>\n",
       "      <td>...</td>\n",
       "    </tr>\n",
       "    <tr>\n",
       "      <th>2934812</th>\n",
       "      <td>1132803</td>\n",
       "      <td>4</td>\n",
       "      <td>56044</td>\n",
       "      <td>80</td>\n",
       "      <td>253370</td>\n",
       "      <td>0.016992</td>\n",
       "      <td>100</td>\n",
       "      <td>4.082509</td>\n",
       "      <td>4</td>\n",
       "      <td>4.102515</td>\n",
       "      <td>100</td>\n",
       "      <td>0.000000</td>\n",
       "      <td>0.243473</td>\n",
       "      <td>4.124047</td>\n",
       "      <td>1</td>\n",
       "      <td>1</td>\n",
       "      <td>UDP</td>\n",
       "    </tr>\n",
       "    <tr>\n",
       "      <th>2934813</th>\n",
       "      <td>3384621</td>\n",
       "      <td>4</td>\n",
       "      <td>21546</td>\n",
       "      <td>80</td>\n",
       "      <td>231693</td>\n",
       "      <td>1.922317</td>\n",
       "      <td>100</td>\n",
       "      <td>0.000000</td>\n",
       "      <td>4</td>\n",
       "      <td>2.718527</td>\n",
       "      <td>100</td>\n",
       "      <td>0.000000</td>\n",
       "      <td>0.490800</td>\n",
       "      <td>4.090534</td>\n",
       "      <td>1</td>\n",
       "      <td>0</td>\n",
       "      <td>UDP</td>\n",
       "    </tr>\n",
       "    <tr>\n",
       "      <th>2934814</th>\n",
       "      <td>775893</td>\n",
       "      <td>4</td>\n",
       "      <td>30897</td>\n",
       "      <td>80</td>\n",
       "      <td>158616</td>\n",
       "      <td>2.112228</td>\n",
       "      <td>100</td>\n",
       "      <td>0.000000</td>\n",
       "      <td>4</td>\n",
       "      <td>2.110766</td>\n",
       "      <td>100</td>\n",
       "      <td>0.000000</td>\n",
       "      <td>0.207444</td>\n",
       "      <td>4.332615</td>\n",
       "      <td>1</td>\n",
       "      <td>1</td>\n",
       "      <td>UDP</td>\n",
       "    </tr>\n",
       "    <tr>\n",
       "      <th>2934815</th>\n",
       "      <td>443484</td>\n",
       "      <td>3</td>\n",
       "      <td>36904</td>\n",
       "      <td>80</td>\n",
       "      <td>179855</td>\n",
       "      <td>0.000000</td>\n",
       "      <td>100</td>\n",
       "      <td>0.000000</td>\n",
       "      <td>3</td>\n",
       "      <td>0.000000</td>\n",
       "      <td>100</td>\n",
       "      <td>0.000000</td>\n",
       "      <td>0.162130</td>\n",
       "      <td>0.000000</td>\n",
       "      <td>1</td>\n",
       "      <td>1</td>\n",
       "      <td>TCP</td>\n",
       "    </tr>\n",
       "    <tr>\n",
       "      <th>2934816</th>\n",
       "      <td>96906</td>\n",
       "      <td>3</td>\n",
       "      <td>14302</td>\n",
       "      <td>80</td>\n",
       "      <td>95429</td>\n",
       "      <td>0.053820</td>\n",
       "      <td>100</td>\n",
       "      <td>0.064767</td>\n",
       "      <td>1</td>\n",
       "      <td>0.118588</td>\n",
       "      <td>100</td>\n",
       "      <td>0.038796</td>\n",
       "      <td>0.116388</td>\n",
       "      <td>0.172408</td>\n",
       "      <td>1</td>\n",
       "      <td>1</td>\n",
       "      <td>TCP</td>\n",
       "    </tr>\n",
       "  </tbody>\n",
       "</table>\n",
       "<p>2934817 rows × 17 columns</p>\n",
       "</div>"
      ],
      "text/plain": [
       "         pkSeqID  proto  sport dport     seq    stddev  N_IN_Conn_P_SrcIP  \\\n",
       "0        3142762      4   6551    80  251984  1.900363                100   \n",
       "1        2432264      3   5532    80  256724  0.078003                 38   \n",
       "2        1976315      3  27165    80   62921  0.268666                100   \n",
       "3        1240757      4  48719    80   99168  1.823185                 63   \n",
       "4        3257991      4  22461    80  105063  0.822418                100   \n",
       "...          ...    ...    ...   ...     ...       ...                ...   \n",
       "2934812  1132803      4  56044    80  253370  0.016992                100   \n",
       "2934813  3384621      4  21546    80  231693  1.922317                100   \n",
       "2934814   775893      4  30897    80  158616  2.112228                100   \n",
       "2934815   443484      3  36904    80  179855  0.000000                100   \n",
       "2934816    96906      3  14302    80   95429  0.053820                100   \n",
       "\n",
       "              min  state_number      mean  N_IN_Conn_P_DstIP     drate  \\\n",
       "0        0.000000             4  2.687519                100  0.000000   \n",
       "1        3.856930             3  3.934927                100  0.000000   \n",
       "2        2.974100             3  3.341429                100  0.000000   \n",
       "3        0.000000             4  3.222832                 63  0.000000   \n",
       "4        2.979995             4  3.983222                100  0.000000   \n",
       "...           ...           ...       ...                ...       ...   \n",
       "2934812  4.082509             4  4.102515                100  0.000000   \n",
       "2934813  0.000000             4  2.718527                100  0.000000   \n",
       "2934814  0.000000             4  2.110766                100  0.000000   \n",
       "2934815  0.000000             3  0.000000                100  0.000000   \n",
       "2934816  0.064767             1  0.118588                100  0.038796   \n",
       "\n",
       "            srate       max  attack  category subcategory  \n",
       "0        0.494549  4.031619       1         0         UDP  \n",
       "1        0.256493  4.012924       1         0         TCP  \n",
       "2        0.294880  3.609205       1         0         TCP  \n",
       "3        0.461435  4.942302       1         1         UDP  \n",
       "4        1.002999  4.994452       1         0         UDP  \n",
       "...           ...       ...     ...       ...         ...  \n",
       "2934812  0.243473  4.124047       1         1         UDP  \n",
       "2934813  0.490800  4.090534       1         0         UDP  \n",
       "2934814  0.207444  4.332615       1         1         UDP  \n",
       "2934815  0.162130  0.000000       1         1         TCP  \n",
       "2934816  0.116388  0.172408       1         1         TCP  \n",
       "\n",
       "[2934817 rows x 17 columns]"
      ]
     },
     "execution_count": 62,
     "metadata": {},
     "output_type": "execute_result"
    }
   ],
   "source": [
    "import string\n",
    "for i in string.ascii_lowercase:\n",
    "    \n",
    "    df.loc[(df[\"sport\"].str.contains(i)) | (df[\"sport\"].str.contains(\"b\"))| (df[\"sport\"].str.contains(\"b\")),[\"sport\"]]=-8999\n",
    "     \n",
    "    df.loc[(df[\"dport\"].str.contains(i)) | (df[\"dport\"].str.contains(\"b\"))| (df[\"dport\"].str.contains(\"b\")),[\"dport\"]]=-8999\n",
    "df"
   ]
  },
  {
   "cell_type": "markdown",
   "id": "5b37fd17",
   "metadata": {
    "papermill": {
     "duration": 0.128278,
     "end_time": "2021-12-20T18:37:39.561532",
     "exception": false,
     "start_time": "2021-12-20T18:37:39.433254",
     "status": "completed"
    },
    "tags": []
   },
   "source": [
    "AFTER REPLACING STRINGS IN sport & dport converting them to int"
   ]
  },
  {
   "cell_type": "code",
   "execution_count": 65,
   "id": "59264449",
   "metadata": {
    "execution": {
     "iopub.execute_input": "2021-12-20T18:37:39.824037Z",
     "iopub.status.busy": "2021-12-20T18:37:39.822995Z",
     "iopub.status.idle": "2021-12-20T18:37:39.976107Z",
     "shell.execute_reply": "2021-12-20T18:37:39.976612Z",
     "shell.execute_reply.started": "2021-12-20T18:32:17.288349Z"
    },
    "papermill": {
     "duration": 0.286939,
     "end_time": "2021-12-20T18:37:39.976832",
     "exception": false,
     "start_time": "2021-12-20T18:37:39.689893",
     "status": "completed"
    },
    "tags": []
   },
   "outputs": [
    {
     "data": {
      "text/html": [
       "<div>\n",
       "<style scoped>\n",
       "    .dataframe tbody tr th:only-of-type {\n",
       "        vertical-align: middle;\n",
       "    }\n",
       "\n",
       "    .dataframe tbody tr th {\n",
       "        vertical-align: top;\n",
       "    }\n",
       "\n",
       "    .dataframe thead th {\n",
       "        text-align: right;\n",
       "    }\n",
       "</style>\n",
       "<table border=\"1\" class=\"dataframe\">\n",
       "  <thead>\n",
       "    <tr style=\"text-align: right;\">\n",
       "      <th></th>\n",
       "      <th>pkSeqID</th>\n",
       "      <th>proto</th>\n",
       "      <th>sport</th>\n",
       "      <th>dport</th>\n",
       "      <th>seq</th>\n",
       "      <th>stddev</th>\n",
       "      <th>N_IN_Conn_P_SrcIP</th>\n",
       "      <th>min</th>\n",
       "      <th>state_number</th>\n",
       "      <th>mean</th>\n",
       "      <th>N_IN_Conn_P_DstIP</th>\n",
       "      <th>drate</th>\n",
       "      <th>srate</th>\n",
       "      <th>max</th>\n",
       "      <th>attack</th>\n",
       "      <th>category</th>\n",
       "      <th>subcategory</th>\n",
       "    </tr>\n",
       "  </thead>\n",
       "  <tbody>\n",
       "    <tr>\n",
       "      <th>0</th>\n",
       "      <td>3142762</td>\n",
       "      <td>4</td>\n",
       "      <td>6551</td>\n",
       "      <td>80</td>\n",
       "      <td>251984</td>\n",
       "      <td>1.900363</td>\n",
       "      <td>100</td>\n",
       "      <td>0.000000</td>\n",
       "      <td>4</td>\n",
       "      <td>2.687519</td>\n",
       "      <td>100</td>\n",
       "      <td>0.000000</td>\n",
       "      <td>0.494549</td>\n",
       "      <td>4.031619</td>\n",
       "      <td>1</td>\n",
       "      <td>0</td>\n",
       "      <td>UDP</td>\n",
       "    </tr>\n",
       "    <tr>\n",
       "      <th>1</th>\n",
       "      <td>2432264</td>\n",
       "      <td>3</td>\n",
       "      <td>5532</td>\n",
       "      <td>80</td>\n",
       "      <td>256724</td>\n",
       "      <td>0.078003</td>\n",
       "      <td>38</td>\n",
       "      <td>3.856930</td>\n",
       "      <td>3</td>\n",
       "      <td>3.934927</td>\n",
       "      <td>100</td>\n",
       "      <td>0.000000</td>\n",
       "      <td>0.256493</td>\n",
       "      <td>4.012924</td>\n",
       "      <td>1</td>\n",
       "      <td>0</td>\n",
       "      <td>TCP</td>\n",
       "    </tr>\n",
       "    <tr>\n",
       "      <th>2</th>\n",
       "      <td>1976315</td>\n",
       "      <td>3</td>\n",
       "      <td>27165</td>\n",
       "      <td>80</td>\n",
       "      <td>62921</td>\n",
       "      <td>0.268666</td>\n",
       "      <td>100</td>\n",
       "      <td>2.974100</td>\n",
       "      <td>3</td>\n",
       "      <td>3.341429</td>\n",
       "      <td>100</td>\n",
       "      <td>0.000000</td>\n",
       "      <td>0.294880</td>\n",
       "      <td>3.609205</td>\n",
       "      <td>1</td>\n",
       "      <td>0</td>\n",
       "      <td>TCP</td>\n",
       "    </tr>\n",
       "    <tr>\n",
       "      <th>3</th>\n",
       "      <td>1240757</td>\n",
       "      <td>4</td>\n",
       "      <td>48719</td>\n",
       "      <td>80</td>\n",
       "      <td>99168</td>\n",
       "      <td>1.823185</td>\n",
       "      <td>63</td>\n",
       "      <td>0.000000</td>\n",
       "      <td>4</td>\n",
       "      <td>3.222832</td>\n",
       "      <td>63</td>\n",
       "      <td>0.000000</td>\n",
       "      <td>0.461435</td>\n",
       "      <td>4.942302</td>\n",
       "      <td>1</td>\n",
       "      <td>1</td>\n",
       "      <td>UDP</td>\n",
       "    </tr>\n",
       "    <tr>\n",
       "      <th>4</th>\n",
       "      <td>3257991</td>\n",
       "      <td>4</td>\n",
       "      <td>22461</td>\n",
       "      <td>80</td>\n",
       "      <td>105063</td>\n",
       "      <td>0.822418</td>\n",
       "      <td>100</td>\n",
       "      <td>2.979995</td>\n",
       "      <td>4</td>\n",
       "      <td>3.983222</td>\n",
       "      <td>100</td>\n",
       "      <td>0.000000</td>\n",
       "      <td>1.002999</td>\n",
       "      <td>4.994452</td>\n",
       "      <td>1</td>\n",
       "      <td>0</td>\n",
       "      <td>UDP</td>\n",
       "    </tr>\n",
       "    <tr>\n",
       "      <th>...</th>\n",
       "      <td>...</td>\n",
       "      <td>...</td>\n",
       "      <td>...</td>\n",
       "      <td>...</td>\n",
       "      <td>...</td>\n",
       "      <td>...</td>\n",
       "      <td>...</td>\n",
       "      <td>...</td>\n",
       "      <td>...</td>\n",
       "      <td>...</td>\n",
       "      <td>...</td>\n",
       "      <td>...</td>\n",
       "      <td>...</td>\n",
       "      <td>...</td>\n",
       "      <td>...</td>\n",
       "      <td>...</td>\n",
       "      <td>...</td>\n",
       "    </tr>\n",
       "    <tr>\n",
       "      <th>2934812</th>\n",
       "      <td>1132803</td>\n",
       "      <td>4</td>\n",
       "      <td>56044</td>\n",
       "      <td>80</td>\n",
       "      <td>253370</td>\n",
       "      <td>0.016992</td>\n",
       "      <td>100</td>\n",
       "      <td>4.082509</td>\n",
       "      <td>4</td>\n",
       "      <td>4.102515</td>\n",
       "      <td>100</td>\n",
       "      <td>0.000000</td>\n",
       "      <td>0.243473</td>\n",
       "      <td>4.124047</td>\n",
       "      <td>1</td>\n",
       "      <td>1</td>\n",
       "      <td>UDP</td>\n",
       "    </tr>\n",
       "    <tr>\n",
       "      <th>2934813</th>\n",
       "      <td>3384621</td>\n",
       "      <td>4</td>\n",
       "      <td>21546</td>\n",
       "      <td>80</td>\n",
       "      <td>231693</td>\n",
       "      <td>1.922317</td>\n",
       "      <td>100</td>\n",
       "      <td>0.000000</td>\n",
       "      <td>4</td>\n",
       "      <td>2.718527</td>\n",
       "      <td>100</td>\n",
       "      <td>0.000000</td>\n",
       "      <td>0.490800</td>\n",
       "      <td>4.090534</td>\n",
       "      <td>1</td>\n",
       "      <td>0</td>\n",
       "      <td>UDP</td>\n",
       "    </tr>\n",
       "    <tr>\n",
       "      <th>2934814</th>\n",
       "      <td>775893</td>\n",
       "      <td>4</td>\n",
       "      <td>30897</td>\n",
       "      <td>80</td>\n",
       "      <td>158616</td>\n",
       "      <td>2.112228</td>\n",
       "      <td>100</td>\n",
       "      <td>0.000000</td>\n",
       "      <td>4</td>\n",
       "      <td>2.110766</td>\n",
       "      <td>100</td>\n",
       "      <td>0.000000</td>\n",
       "      <td>0.207444</td>\n",
       "      <td>4.332615</td>\n",
       "      <td>1</td>\n",
       "      <td>1</td>\n",
       "      <td>UDP</td>\n",
       "    </tr>\n",
       "    <tr>\n",
       "      <th>2934815</th>\n",
       "      <td>443484</td>\n",
       "      <td>3</td>\n",
       "      <td>36904</td>\n",
       "      <td>80</td>\n",
       "      <td>179855</td>\n",
       "      <td>0.000000</td>\n",
       "      <td>100</td>\n",
       "      <td>0.000000</td>\n",
       "      <td>3</td>\n",
       "      <td>0.000000</td>\n",
       "      <td>100</td>\n",
       "      <td>0.000000</td>\n",
       "      <td>0.162130</td>\n",
       "      <td>0.000000</td>\n",
       "      <td>1</td>\n",
       "      <td>1</td>\n",
       "      <td>TCP</td>\n",
       "    </tr>\n",
       "    <tr>\n",
       "      <th>2934816</th>\n",
       "      <td>96906</td>\n",
       "      <td>3</td>\n",
       "      <td>14302</td>\n",
       "      <td>80</td>\n",
       "      <td>95429</td>\n",
       "      <td>0.053820</td>\n",
       "      <td>100</td>\n",
       "      <td>0.064767</td>\n",
       "      <td>1</td>\n",
       "      <td>0.118588</td>\n",
       "      <td>100</td>\n",
       "      <td>0.038796</td>\n",
       "      <td>0.116388</td>\n",
       "      <td>0.172408</td>\n",
       "      <td>1</td>\n",
       "      <td>1</td>\n",
       "      <td>TCP</td>\n",
       "    </tr>\n",
       "  </tbody>\n",
       "</table>\n",
       "<p>2934817 rows × 17 columns</p>\n",
       "</div>"
      ],
      "text/plain": [
       "         pkSeqID  proto  sport dport     seq    stddev  N_IN_Conn_P_SrcIP  \\\n",
       "0        3142762      4   6551    80  251984  1.900363                100   \n",
       "1        2432264      3   5532    80  256724  0.078003                 38   \n",
       "2        1976315      3  27165    80   62921  0.268666                100   \n",
       "3        1240757      4  48719    80   99168  1.823185                 63   \n",
       "4        3257991      4  22461    80  105063  0.822418                100   \n",
       "...          ...    ...    ...   ...     ...       ...                ...   \n",
       "2934812  1132803      4  56044    80  253370  0.016992                100   \n",
       "2934813  3384621      4  21546    80  231693  1.922317                100   \n",
       "2934814   775893      4  30897    80  158616  2.112228                100   \n",
       "2934815   443484      3  36904    80  179855  0.000000                100   \n",
       "2934816    96906      3  14302    80   95429  0.053820                100   \n",
       "\n",
       "              min  state_number      mean  N_IN_Conn_P_DstIP     drate  \\\n",
       "0        0.000000             4  2.687519                100  0.000000   \n",
       "1        3.856930             3  3.934927                100  0.000000   \n",
       "2        2.974100             3  3.341429                100  0.000000   \n",
       "3        0.000000             4  3.222832                 63  0.000000   \n",
       "4        2.979995             4  3.983222                100  0.000000   \n",
       "...           ...           ...       ...                ...       ...   \n",
       "2934812  4.082509             4  4.102515                100  0.000000   \n",
       "2934813  0.000000             4  2.718527                100  0.000000   \n",
       "2934814  0.000000             4  2.110766                100  0.000000   \n",
       "2934815  0.000000             3  0.000000                100  0.000000   \n",
       "2934816  0.064767             1  0.118588                100  0.038796   \n",
       "\n",
       "            srate       max  attack  category subcategory  \n",
       "0        0.494549  4.031619       1         0         UDP  \n",
       "1        0.256493  4.012924       1         0         TCP  \n",
       "2        0.294880  3.609205       1         0         TCP  \n",
       "3        0.461435  4.942302       1         1         UDP  \n",
       "4        1.002999  4.994452       1         0         UDP  \n",
       "...           ...       ...     ...       ...         ...  \n",
       "2934812  0.243473  4.124047       1         1         UDP  \n",
       "2934813  0.490800  4.090534       1         0         UDP  \n",
       "2934814  0.207444  4.332615       1         1         UDP  \n",
       "2934815  0.162130  0.000000       1         1         TCP  \n",
       "2934816  0.116388  0.172408       1         1         TCP  \n",
       "\n",
       "[2934817 rows x 17 columns]"
      ]
     },
     "execution_count": 65,
     "metadata": {},
     "output_type": "execute_result"
    }
   ],
   "source": [
    "df['sport']=df['sport'].astype(int)\n",
    "df"
   ]
  },
  {
   "cell_type": "code",
   "execution_count": 66,
   "id": "bd64d596",
   "metadata": {
    "execution": {
     "iopub.execute_input": "2021-12-20T18:37:40.340456Z",
     "iopub.status.busy": "2021-12-20T18:37:40.338730Z",
     "iopub.status.idle": "2021-12-20T18:37:40.377450Z",
     "shell.execute_reply": "2021-12-20T18:37:40.376770Z",
     "shell.execute_reply.started": "2021-12-20T18:32:17.440399Z"
    },
    "papermill": {
     "duration": 0.270101,
     "end_time": "2021-12-20T18:37:40.377621",
     "exception": false,
     "start_time": "2021-12-20T18:37:40.107520",
     "status": "completed"
    },
    "tags": []
   },
   "outputs": [
    {
     "data": {
      "text/html": [
       "<div>\n",
       "<style scoped>\n",
       "    .dataframe tbody tr th:only-of-type {\n",
       "        vertical-align: middle;\n",
       "    }\n",
       "\n",
       "    .dataframe tbody tr th {\n",
       "        vertical-align: top;\n",
       "    }\n",
       "\n",
       "    .dataframe thead th {\n",
       "        text-align: right;\n",
       "    }\n",
       "</style>\n",
       "<table border=\"1\" class=\"dataframe\">\n",
       "  <thead>\n",
       "    <tr style=\"text-align: right;\">\n",
       "      <th></th>\n",
       "      <th>pkSeqID</th>\n",
       "      <th>proto</th>\n",
       "      <th>sport</th>\n",
       "      <th>dport</th>\n",
       "      <th>seq</th>\n",
       "      <th>stddev</th>\n",
       "      <th>N_IN_Conn_P_SrcIP</th>\n",
       "      <th>min</th>\n",
       "      <th>state_number</th>\n",
       "      <th>mean</th>\n",
       "      <th>N_IN_Conn_P_DstIP</th>\n",
       "      <th>drate</th>\n",
       "      <th>srate</th>\n",
       "      <th>max</th>\n",
       "      <th>attack</th>\n",
       "      <th>category</th>\n",
       "      <th>subcategory</th>\n",
       "    </tr>\n",
       "  </thead>\n",
       "  <tbody>\n",
       "    <tr>\n",
       "      <th>0</th>\n",
       "      <td>3142762</td>\n",
       "      <td>4</td>\n",
       "      <td>6551</td>\n",
       "      <td>80</td>\n",
       "      <td>251984</td>\n",
       "      <td>1.900363</td>\n",
       "      <td>100</td>\n",
       "      <td>0.000000</td>\n",
       "      <td>4</td>\n",
       "      <td>2.687519</td>\n",
       "      <td>100</td>\n",
       "      <td>0.000000</td>\n",
       "      <td>0.494549</td>\n",
       "      <td>4.031619</td>\n",
       "      <td>1</td>\n",
       "      <td>0</td>\n",
       "      <td>UDP</td>\n",
       "    </tr>\n",
       "    <tr>\n",
       "      <th>1</th>\n",
       "      <td>2432264</td>\n",
       "      <td>3</td>\n",
       "      <td>5532</td>\n",
       "      <td>80</td>\n",
       "      <td>256724</td>\n",
       "      <td>0.078003</td>\n",
       "      <td>38</td>\n",
       "      <td>3.856930</td>\n",
       "      <td>3</td>\n",
       "      <td>3.934927</td>\n",
       "      <td>100</td>\n",
       "      <td>0.000000</td>\n",
       "      <td>0.256493</td>\n",
       "      <td>4.012924</td>\n",
       "      <td>1</td>\n",
       "      <td>0</td>\n",
       "      <td>TCP</td>\n",
       "    </tr>\n",
       "    <tr>\n",
       "      <th>2</th>\n",
       "      <td>1976315</td>\n",
       "      <td>3</td>\n",
       "      <td>27165</td>\n",
       "      <td>80</td>\n",
       "      <td>62921</td>\n",
       "      <td>0.268666</td>\n",
       "      <td>100</td>\n",
       "      <td>2.974100</td>\n",
       "      <td>3</td>\n",
       "      <td>3.341429</td>\n",
       "      <td>100</td>\n",
       "      <td>0.000000</td>\n",
       "      <td>0.294880</td>\n",
       "      <td>3.609205</td>\n",
       "      <td>1</td>\n",
       "      <td>0</td>\n",
       "      <td>TCP</td>\n",
       "    </tr>\n",
       "    <tr>\n",
       "      <th>3</th>\n",
       "      <td>1240757</td>\n",
       "      <td>4</td>\n",
       "      <td>48719</td>\n",
       "      <td>80</td>\n",
       "      <td>99168</td>\n",
       "      <td>1.823185</td>\n",
       "      <td>63</td>\n",
       "      <td>0.000000</td>\n",
       "      <td>4</td>\n",
       "      <td>3.222832</td>\n",
       "      <td>63</td>\n",
       "      <td>0.000000</td>\n",
       "      <td>0.461435</td>\n",
       "      <td>4.942302</td>\n",
       "      <td>1</td>\n",
       "      <td>1</td>\n",
       "      <td>UDP</td>\n",
       "    </tr>\n",
       "    <tr>\n",
       "      <th>4</th>\n",
       "      <td>3257991</td>\n",
       "      <td>4</td>\n",
       "      <td>22461</td>\n",
       "      <td>80</td>\n",
       "      <td>105063</td>\n",
       "      <td>0.822418</td>\n",
       "      <td>100</td>\n",
       "      <td>2.979995</td>\n",
       "      <td>4</td>\n",
       "      <td>3.983222</td>\n",
       "      <td>100</td>\n",
       "      <td>0.000000</td>\n",
       "      <td>1.002999</td>\n",
       "      <td>4.994452</td>\n",
       "      <td>1</td>\n",
       "      <td>0</td>\n",
       "      <td>UDP</td>\n",
       "    </tr>\n",
       "    <tr>\n",
       "      <th>...</th>\n",
       "      <td>...</td>\n",
       "      <td>...</td>\n",
       "      <td>...</td>\n",
       "      <td>...</td>\n",
       "      <td>...</td>\n",
       "      <td>...</td>\n",
       "      <td>...</td>\n",
       "      <td>...</td>\n",
       "      <td>...</td>\n",
       "      <td>...</td>\n",
       "      <td>...</td>\n",
       "      <td>...</td>\n",
       "      <td>...</td>\n",
       "      <td>...</td>\n",
       "      <td>...</td>\n",
       "      <td>...</td>\n",
       "      <td>...</td>\n",
       "    </tr>\n",
       "    <tr>\n",
       "      <th>2934812</th>\n",
       "      <td>1132803</td>\n",
       "      <td>4</td>\n",
       "      <td>56044</td>\n",
       "      <td>80</td>\n",
       "      <td>253370</td>\n",
       "      <td>0.016992</td>\n",
       "      <td>100</td>\n",
       "      <td>4.082509</td>\n",
       "      <td>4</td>\n",
       "      <td>4.102515</td>\n",
       "      <td>100</td>\n",
       "      <td>0.000000</td>\n",
       "      <td>0.243473</td>\n",
       "      <td>4.124047</td>\n",
       "      <td>1</td>\n",
       "      <td>1</td>\n",
       "      <td>UDP</td>\n",
       "    </tr>\n",
       "    <tr>\n",
       "      <th>2934813</th>\n",
       "      <td>3384621</td>\n",
       "      <td>4</td>\n",
       "      <td>21546</td>\n",
       "      <td>80</td>\n",
       "      <td>231693</td>\n",
       "      <td>1.922317</td>\n",
       "      <td>100</td>\n",
       "      <td>0.000000</td>\n",
       "      <td>4</td>\n",
       "      <td>2.718527</td>\n",
       "      <td>100</td>\n",
       "      <td>0.000000</td>\n",
       "      <td>0.490800</td>\n",
       "      <td>4.090534</td>\n",
       "      <td>1</td>\n",
       "      <td>0</td>\n",
       "      <td>UDP</td>\n",
       "    </tr>\n",
       "    <tr>\n",
       "      <th>2934814</th>\n",
       "      <td>775893</td>\n",
       "      <td>4</td>\n",
       "      <td>30897</td>\n",
       "      <td>80</td>\n",
       "      <td>158616</td>\n",
       "      <td>2.112228</td>\n",
       "      <td>100</td>\n",
       "      <td>0.000000</td>\n",
       "      <td>4</td>\n",
       "      <td>2.110766</td>\n",
       "      <td>100</td>\n",
       "      <td>0.000000</td>\n",
       "      <td>0.207444</td>\n",
       "      <td>4.332615</td>\n",
       "      <td>1</td>\n",
       "      <td>1</td>\n",
       "      <td>UDP</td>\n",
       "    </tr>\n",
       "    <tr>\n",
       "      <th>2934815</th>\n",
       "      <td>443484</td>\n",
       "      <td>3</td>\n",
       "      <td>36904</td>\n",
       "      <td>80</td>\n",
       "      <td>179855</td>\n",
       "      <td>0.000000</td>\n",
       "      <td>100</td>\n",
       "      <td>0.000000</td>\n",
       "      <td>3</td>\n",
       "      <td>0.000000</td>\n",
       "      <td>100</td>\n",
       "      <td>0.000000</td>\n",
       "      <td>0.162130</td>\n",
       "      <td>0.000000</td>\n",
       "      <td>1</td>\n",
       "      <td>1</td>\n",
       "      <td>TCP</td>\n",
       "    </tr>\n",
       "    <tr>\n",
       "      <th>2934816</th>\n",
       "      <td>96906</td>\n",
       "      <td>3</td>\n",
       "      <td>14302</td>\n",
       "      <td>80</td>\n",
       "      <td>95429</td>\n",
       "      <td>0.053820</td>\n",
       "      <td>100</td>\n",
       "      <td>0.064767</td>\n",
       "      <td>1</td>\n",
       "      <td>0.118588</td>\n",
       "      <td>100</td>\n",
       "      <td>0.038796</td>\n",
       "      <td>0.116388</td>\n",
       "      <td>0.172408</td>\n",
       "      <td>1</td>\n",
       "      <td>1</td>\n",
       "      <td>TCP</td>\n",
       "    </tr>\n",
       "  </tbody>\n",
       "</table>\n",
       "<p>2934817 rows × 17 columns</p>\n",
       "</div>"
      ],
      "text/plain": [
       "         pkSeqID  proto  sport  dport     seq    stddev  N_IN_Conn_P_SrcIP  \\\n",
       "0        3142762      4   6551     80  251984  1.900363                100   \n",
       "1        2432264      3   5532     80  256724  0.078003                 38   \n",
       "2        1976315      3  27165     80   62921  0.268666                100   \n",
       "3        1240757      4  48719     80   99168  1.823185                 63   \n",
       "4        3257991      4  22461     80  105063  0.822418                100   \n",
       "...          ...    ...    ...    ...     ...       ...                ...   \n",
       "2934812  1132803      4  56044     80  253370  0.016992                100   \n",
       "2934813  3384621      4  21546     80  231693  1.922317                100   \n",
       "2934814   775893      4  30897     80  158616  2.112228                100   \n",
       "2934815   443484      3  36904     80  179855  0.000000                100   \n",
       "2934816    96906      3  14302     80   95429  0.053820                100   \n",
       "\n",
       "              min  state_number      mean  N_IN_Conn_P_DstIP     drate  \\\n",
       "0        0.000000             4  2.687519                100  0.000000   \n",
       "1        3.856930             3  3.934927                100  0.000000   \n",
       "2        2.974100             3  3.341429                100  0.000000   \n",
       "3        0.000000             4  3.222832                 63  0.000000   \n",
       "4        2.979995             4  3.983222                100  0.000000   \n",
       "...           ...           ...       ...                ...       ...   \n",
       "2934812  4.082509             4  4.102515                100  0.000000   \n",
       "2934813  0.000000             4  2.718527                100  0.000000   \n",
       "2934814  0.000000             4  2.110766                100  0.000000   \n",
       "2934815  0.000000             3  0.000000                100  0.000000   \n",
       "2934816  0.064767             1  0.118588                100  0.038796   \n",
       "\n",
       "            srate       max  attack  category subcategory  \n",
       "0        0.494549  4.031619       1         0         UDP  \n",
       "1        0.256493  4.012924       1         0         TCP  \n",
       "2        0.294880  3.609205       1         0         TCP  \n",
       "3        0.461435  4.942302       1         1         UDP  \n",
       "4        1.002999  4.994452       1         0         UDP  \n",
       "...           ...       ...     ...       ...         ...  \n",
       "2934812  0.243473  4.124047       1         1         UDP  \n",
       "2934813  0.490800  4.090534       1         0         UDP  \n",
       "2934814  0.207444  4.332615       1         1         UDP  \n",
       "2934815  0.162130  0.000000       1         1         TCP  \n",
       "2934816  0.116388  0.172408       1         1         TCP  \n",
       "\n",
       "[2934817 rows x 17 columns]"
      ]
     },
     "execution_count": 66,
     "metadata": {},
     "output_type": "execute_result"
    }
   ],
   "source": [
    "df['dport']=df['dport'].astype(int)\n",
    "df"
   ]
  },
  {
   "cell_type": "code",
   "execution_count": 68,
   "id": "f63a0845",
   "metadata": {
    "execution": {
     "iopub.execute_input": "2021-12-20T18:37:40.949040Z",
     "iopub.status.busy": "2021-12-20T18:37:40.948281Z",
     "iopub.status.idle": "2021-12-20T18:37:41.047017Z",
     "shell.execute_reply": "2021-12-20T18:37:41.046288Z",
     "shell.execute_reply.started": "2021-12-20T18:32:17.653652Z"
    },
    "papermill": {
     "duration": 0.235686,
     "end_time": "2021-12-20T18:37:41.047172",
     "exception": false,
     "start_time": "2021-12-20T18:37:40.811486",
     "status": "completed"
    },
    "tags": []
   },
   "outputs": [],
   "source": [
    "\n",
    "df=df.drop(['subcategory'],axis=1)"
   ]
  },
  {
   "cell_type": "code",
   "execution_count": 69,
   "id": "c5a88b02",
   "metadata": {
    "execution": {
     "iopub.execute_input": "2021-12-20T18:37:41.360251Z",
     "iopub.status.busy": "2021-12-20T18:37:41.359335Z",
     "iopub.status.idle": "2021-12-20T18:37:41.362420Z",
     "shell.execute_reply": "2021-12-20T18:37:41.361878Z",
     "shell.execute_reply.started": "2021-12-20T18:32:17.749899Z"
    },
    "papermill": {
     "duration": 0.182769,
     "end_time": "2021-12-20T18:37:41.362589",
     "exception": false,
     "start_time": "2021-12-20T18:37:41.179820",
     "status": "completed"
    },
    "tags": []
   },
   "outputs": [],
   "source": [
    "\n",
    "df=df.drop(['attack'],axis=1)"
   ]
  },
  {
   "cell_type": "code",
   "execution_count": 70,
   "id": "aaced0bf",
   "metadata": {
    "execution": {
     "iopub.execute_input": "2021-12-20T18:37:41.633601Z",
     "iopub.status.busy": "2021-12-20T18:37:41.632866Z",
     "iopub.status.idle": "2021-12-20T18:37:41.642249Z",
     "shell.execute_reply": "2021-12-20T18:37:41.641680Z",
     "shell.execute_reply.started": "2021-12-20T18:32:17.798208Z"
    },
    "papermill": {
     "duration": 0.144458,
     "end_time": "2021-12-20T18:37:41.642401",
     "exception": false,
     "start_time": "2021-12-20T18:37:41.497943",
     "status": "completed"
    },
    "tags": []
   },
   "outputs": [
    {
     "data": {
      "text/plain": [
       "pkSeqID                int64\n",
       "proto                  int32\n",
       "sport                  int32\n",
       "dport                  int32\n",
       "seq                    int64\n",
       "stddev               float64\n",
       "N_IN_Conn_P_SrcIP      int64\n",
       "min                  float64\n",
       "state_number           int64\n",
       "mean                 float64\n",
       "N_IN_Conn_P_DstIP      int64\n",
       "drate                float64\n",
       "srate                float64\n",
       "max                  float64\n",
       "category               int32\n",
       "dtype: object"
      ]
     },
     "execution_count": 70,
     "metadata": {},
     "output_type": "execute_result"
    }
   ],
   "source": [
    "df.dtypes"
   ]
  },
  {
   "cell_type": "markdown",
   "id": "67092c6d",
   "metadata": {
    "papermill": {
     "duration": 0.132743,
     "end_time": "2021-12-20T18:37:41.904466",
     "exception": false,
     "start_time": "2021-12-20T18:37:41.771723",
     "status": "completed"
    },
    "tags": []
   },
   "source": [
    "ALL FEATURES ARE INTEGER AND FLOAT"
   ]
  },
  {
   "cell_type": "markdown",
   "id": "e82e68a2",
   "metadata": {
    "papermill": {
     "duration": 0.132874,
     "end_time": "2021-12-20T18:37:42.458553",
     "exception": false,
     "start_time": "2021-12-20T18:37:42.325679",
     "status": "completed"
    },
    "tags": []
   },
   "source": [
    "MIN MAX SCALING ( FOR DISTANCE BASED ALGORITHMS)"
   ]
  },
  {
   "cell_type": "code",
   "execution_count": 72,
   "id": "e0031074",
   "metadata": {
    "execution": {
     "iopub.execute_input": "2021-12-20T18:37:42.725325Z",
     "iopub.status.busy": "2021-12-20T18:37:42.724627Z",
     "iopub.status.idle": "2021-12-20T18:37:43.096420Z",
     "shell.execute_reply": "2021-12-20T18:37:43.097390Z",
     "shell.execute_reply.started": "2021-12-20T18:32:17.838438Z"
    },
    "papermill": {
     "duration": 0.50706,
     "end_time": "2021-12-20T18:37:43.097659",
     "exception": false,
     "start_time": "2021-12-20T18:37:42.590599",
     "status": "completed"
    },
    "tags": []
   },
   "outputs": [
    {
     "data": {
      "text/html": [
       "<div>\n",
       "<style scoped>\n",
       "    .dataframe tbody tr th:only-of-type {\n",
       "        vertical-align: middle;\n",
       "    }\n",
       "\n",
       "    .dataframe tbody tr th {\n",
       "        vertical-align: top;\n",
       "    }\n",
       "\n",
       "    .dataframe thead th {\n",
       "        text-align: right;\n",
       "    }\n",
       "</style>\n",
       "<table border=\"1\" class=\"dataframe\">\n",
       "  <thead>\n",
       "    <tr style=\"text-align: right;\">\n",
       "      <th></th>\n",
       "      <th>pkSeqID</th>\n",
       "      <th>proto</th>\n",
       "      <th>sport</th>\n",
       "      <th>dport</th>\n",
       "      <th>seq</th>\n",
       "      <th>stddev</th>\n",
       "      <th>N_IN_Conn_P_SrcIP</th>\n",
       "      <th>min</th>\n",
       "      <th>state_number</th>\n",
       "      <th>mean</th>\n",
       "      <th>N_IN_Conn_P_DstIP</th>\n",
       "      <th>drate</th>\n",
       "      <th>srate</th>\n",
       "      <th>max</th>\n",
       "      <th>category</th>\n",
       "    </tr>\n",
       "  </thead>\n",
       "  <tbody>\n",
       "    <tr>\n",
       "      <th>0</th>\n",
       "      <td>0.856683</td>\n",
       "      <td>1.00</td>\n",
       "      <td>0.208630</td>\n",
       "      <td>0.12181</td>\n",
       "      <td>0.960997</td>\n",
       "      <td>1.900363</td>\n",
       "      <td>1.000000</td>\n",
       "      <td>0.000000</td>\n",
       "      <td>0.3</td>\n",
       "      <td>0.539459</td>\n",
       "      <td>1.000000</td>\n",
       "      <td>0.000000e+00</td>\n",
       "      <td>4.945490e-07</td>\n",
       "      <td>0.806324</td>\n",
       "      <td>0</td>\n",
       "    </tr>\n",
       "    <tr>\n",
       "      <th>1</th>\n",
       "      <td>0.663009</td>\n",
       "      <td>0.75</td>\n",
       "      <td>0.194958</td>\n",
       "      <td>0.12181</td>\n",
       "      <td>0.979074</td>\n",
       "      <td>0.078003</td>\n",
       "      <td>0.373737</td>\n",
       "      <td>0.774411</td>\n",
       "      <td>0.2</td>\n",
       "      <td>0.789847</td>\n",
       "      <td>1.000000</td>\n",
       "      <td>0.000000e+00</td>\n",
       "      <td>2.564930e-07</td>\n",
       "      <td>0.802585</td>\n",
       "      <td>0</td>\n",
       "    </tr>\n",
       "    <tr>\n",
       "      <th>2</th>\n",
       "      <td>0.538722</td>\n",
       "      <td>0.75</td>\n",
       "      <td>0.485201</td>\n",
       "      <td>0.12181</td>\n",
       "      <td>0.239960</td>\n",
       "      <td>0.268666</td>\n",
       "      <td>1.000000</td>\n",
       "      <td>0.597152</td>\n",
       "      <td>0.2</td>\n",
       "      <td>0.670716</td>\n",
       "      <td>1.000000</td>\n",
       "      <td>0.000000e+00</td>\n",
       "      <td>2.948800e-07</td>\n",
       "      <td>0.721841</td>\n",
       "      <td>0</td>\n",
       "    </tr>\n",
       "    <tr>\n",
       "      <th>3</th>\n",
       "      <td>0.338217</td>\n",
       "      <td>1.00</td>\n",
       "      <td>0.774385</td>\n",
       "      <td>0.12181</td>\n",
       "      <td>0.378197</td>\n",
       "      <td>1.823185</td>\n",
       "      <td>0.626263</td>\n",
       "      <td>0.000000</td>\n",
       "      <td>0.3</td>\n",
       "      <td>0.646911</td>\n",
       "      <td>0.626263</td>\n",
       "      <td>0.000000e+00</td>\n",
       "      <td>4.614350e-07</td>\n",
       "      <td>0.988461</td>\n",
       "      <td>1</td>\n",
       "    </tr>\n",
       "    <tr>\n",
       "      <th>4</th>\n",
       "      <td>0.888094</td>\n",
       "      <td>1.00</td>\n",
       "      <td>0.422089</td>\n",
       "      <td>0.12181</td>\n",
       "      <td>0.400679</td>\n",
       "      <td>0.822418</td>\n",
       "      <td>1.000000</td>\n",
       "      <td>0.598336</td>\n",
       "      <td>0.3</td>\n",
       "      <td>0.799542</td>\n",
       "      <td>1.000000</td>\n",
       "      <td>0.000000e+00</td>\n",
       "      <td>1.002999e-06</td>\n",
       "      <td>0.998891</td>\n",
       "      <td>0</td>\n",
       "    </tr>\n",
       "    <tr>\n",
       "      <th>...</th>\n",
       "      <td>...</td>\n",
       "      <td>...</td>\n",
       "      <td>...</td>\n",
       "      <td>...</td>\n",
       "      <td>...</td>\n",
       "      <td>...</td>\n",
       "      <td>...</td>\n",
       "      <td>...</td>\n",
       "      <td>...</td>\n",
       "      <td>...</td>\n",
       "      <td>...</td>\n",
       "      <td>...</td>\n",
       "      <td>...</td>\n",
       "      <td>...</td>\n",
       "      <td>...</td>\n",
       "    </tr>\n",
       "    <tr>\n",
       "      <th>2934812</th>\n",
       "      <td>0.308790</td>\n",
       "      <td>1.00</td>\n",
       "      <td>0.872662</td>\n",
       "      <td>0.12181</td>\n",
       "      <td>0.966283</td>\n",
       "      <td>0.016992</td>\n",
       "      <td>1.000000</td>\n",
       "      <td>0.819703</td>\n",
       "      <td>0.3</td>\n",
       "      <td>0.823487</td>\n",
       "      <td>1.000000</td>\n",
       "      <td>0.000000e+00</td>\n",
       "      <td>2.434730e-07</td>\n",
       "      <td>0.824810</td>\n",
       "      <td>1</td>\n",
       "    </tr>\n",
       "    <tr>\n",
       "      <th>2934813</th>\n",
       "      <td>0.922612</td>\n",
       "      <td>1.00</td>\n",
       "      <td>0.409813</td>\n",
       "      <td>0.12181</td>\n",
       "      <td>0.883612</td>\n",
       "      <td>1.922317</td>\n",
       "      <td>1.000000</td>\n",
       "      <td>0.000000</td>\n",
       "      <td>0.3</td>\n",
       "      <td>0.545683</td>\n",
       "      <td>1.000000</td>\n",
       "      <td>0.000000e+00</td>\n",
       "      <td>4.908000e-07</td>\n",
       "      <td>0.818107</td>\n",
       "      <td>0</td>\n",
       "    </tr>\n",
       "    <tr>\n",
       "      <th>2934814</th>\n",
       "      <td>0.211500</td>\n",
       "      <td>1.00</td>\n",
       "      <td>0.535272</td>\n",
       "      <td>0.12181</td>\n",
       "      <td>0.604916</td>\n",
       "      <td>2.112228</td>\n",
       "      <td>1.000000</td>\n",
       "      <td>0.000000</td>\n",
       "      <td>0.3</td>\n",
       "      <td>0.423688</td>\n",
       "      <td>1.000000</td>\n",
       "      <td>0.000000e+00</td>\n",
       "      <td>2.074440e-07</td>\n",
       "      <td>0.866523</td>\n",
       "      <td>1</td>\n",
       "    </tr>\n",
       "    <tr>\n",
       "      <th>2934815</th>\n",
       "      <td>0.120889</td>\n",
       "      <td>0.75</td>\n",
       "      <td>0.615867</td>\n",
       "      <td>0.12181</td>\n",
       "      <td>0.685916</td>\n",
       "      <td>0.000000</td>\n",
       "      <td>1.000000</td>\n",
       "      <td>0.000000</td>\n",
       "      <td>0.2</td>\n",
       "      <td>0.000000</td>\n",
       "      <td>1.000000</td>\n",
       "      <td>0.000000e+00</td>\n",
       "      <td>1.621300e-07</td>\n",
       "      <td>0.000000</td>\n",
       "      <td>1</td>\n",
       "    </tr>\n",
       "    <tr>\n",
       "      <th>2934816</th>\n",
       "      <td>0.026415</td>\n",
       "      <td>0.75</td>\n",
       "      <td>0.312622</td>\n",
       "      <td>0.12181</td>\n",
       "      <td>0.363937</td>\n",
       "      <td>0.053820</td>\n",
       "      <td>1.000000</td>\n",
       "      <td>0.013004</td>\n",
       "      <td>0.0</td>\n",
       "      <td>0.023804</td>\n",
       "      <td>1.000000</td>\n",
       "      <td>6.595320e-07</td>\n",
       "      <td>1.163880e-07</td>\n",
       "      <td>0.034482</td>\n",
       "      <td>1</td>\n",
       "    </tr>\n",
       "  </tbody>\n",
       "</table>\n",
       "<p>2934817 rows × 15 columns</p>\n",
       "</div>"
      ],
      "text/plain": [
       "          pkSeqID  proto     sport    dport       seq    stddev  \\\n",
       "0        0.856683   1.00  0.208630  0.12181  0.960997  1.900363   \n",
       "1        0.663009   0.75  0.194958  0.12181  0.979074  0.078003   \n",
       "2        0.538722   0.75  0.485201  0.12181  0.239960  0.268666   \n",
       "3        0.338217   1.00  0.774385  0.12181  0.378197  1.823185   \n",
       "4        0.888094   1.00  0.422089  0.12181  0.400679  0.822418   \n",
       "...           ...    ...       ...      ...       ...       ...   \n",
       "2934812  0.308790   1.00  0.872662  0.12181  0.966283  0.016992   \n",
       "2934813  0.922612   1.00  0.409813  0.12181  0.883612  1.922317   \n",
       "2934814  0.211500   1.00  0.535272  0.12181  0.604916  2.112228   \n",
       "2934815  0.120889   0.75  0.615867  0.12181  0.685916  0.000000   \n",
       "2934816  0.026415   0.75  0.312622  0.12181  0.363937  0.053820   \n",
       "\n",
       "         N_IN_Conn_P_SrcIP       min  state_number      mean  \\\n",
       "0                 1.000000  0.000000           0.3  0.539459   \n",
       "1                 0.373737  0.774411           0.2  0.789847   \n",
       "2                 1.000000  0.597152           0.2  0.670716   \n",
       "3                 0.626263  0.000000           0.3  0.646911   \n",
       "4                 1.000000  0.598336           0.3  0.799542   \n",
       "...                    ...       ...           ...       ...   \n",
       "2934812           1.000000  0.819703           0.3  0.823487   \n",
       "2934813           1.000000  0.000000           0.3  0.545683   \n",
       "2934814           1.000000  0.000000           0.3  0.423688   \n",
       "2934815           1.000000  0.000000           0.2  0.000000   \n",
       "2934816           1.000000  0.013004           0.0  0.023804   \n",
       "\n",
       "         N_IN_Conn_P_DstIP         drate         srate       max  category  \n",
       "0                 1.000000  0.000000e+00  4.945490e-07  0.806324         0  \n",
       "1                 1.000000  0.000000e+00  2.564930e-07  0.802585         0  \n",
       "2                 1.000000  0.000000e+00  2.948800e-07  0.721841         0  \n",
       "3                 0.626263  0.000000e+00  4.614350e-07  0.988461         1  \n",
       "4                 1.000000  0.000000e+00  1.002999e-06  0.998891         0  \n",
       "...                    ...           ...           ...       ...       ...  \n",
       "2934812           1.000000  0.000000e+00  2.434730e-07  0.824810         1  \n",
       "2934813           1.000000  0.000000e+00  4.908000e-07  0.818107         0  \n",
       "2934814           1.000000  0.000000e+00  2.074440e-07  0.866523         1  \n",
       "2934815           1.000000  0.000000e+00  1.621300e-07  0.000000         1  \n",
       "2934816           1.000000  6.595320e-07  1.163880e-07  0.034482         1  \n",
       "\n",
       "[2934817 rows x 15 columns]"
      ]
     },
     "execution_count": 72,
     "metadata": {},
     "output_type": "execute_result"
    }
   ],
   "source": [
    "from sklearn.preprocessing import MinMaxScaler\n",
    "min_max_scaler = MinMaxScaler()\n",
    "df[[\"pkSeqID\", \"proto\",'sport','dport','N_IN_Conn_P_SrcIP','min','max','N_IN_Conn_P_DstIP','drate','srate','mean','state_number','seq']] = min_max_scaler.fit_transform(df[[\"pkSeqID\", \"proto\",'sport','dport','N_IN_Conn_P_SrcIP','min','max','N_IN_Conn_P_DstIP','drate','srate','mean','state_number','seq']])\n",
    "df"
   ]
  },
  {
   "cell_type": "markdown",
   "id": "7e44dc65",
   "metadata": {
    "papermill": {
     "duration": 0.136273,
     "end_time": "2021-12-20T18:37:43.368365",
     "exception": false,
     "start_time": "2021-12-20T18:37:43.232092",
     "status": "completed"
    },
    "tags": []
   },
   "source": []
  },
  {
   "cell_type": "markdown",
   "id": "5b9e5ee8",
   "metadata": {
    "papermill": {
     "duration": 0.137062,
     "end_time": "2021-12-20T18:37:43.909484",
     "exception": false,
     "start_time": "2021-12-20T18:37:43.772422",
     "status": "completed"
    },
    "tags": []
   },
   "source": [
    "TARGET VARIBLE ASSIGNED"
   ]
  },
  {
   "cell_type": "code",
   "execution_count": 73,
   "id": "67d7bfeb",
   "metadata": {
    "execution": {
     "iopub.execute_input": "2021-12-20T18:37:44.188477Z",
     "iopub.status.busy": "2021-12-20T18:37:44.187806Z",
     "iopub.status.idle": "2021-12-20T18:37:44.301624Z",
     "shell.execute_reply": "2021-12-20T18:37:44.302160Z",
     "shell.execute_reply.started": "2021-12-20T18:32:18.137994Z"
    },
    "papermill": {
     "duration": 0.254715,
     "end_time": "2021-12-20T18:37:44.302364",
     "exception": false,
     "start_time": "2021-12-20T18:37:44.047649",
     "status": "completed"
    },
    "tags": []
   },
   "outputs": [],
   "source": [
    "x=df.drop(['category'],axis='columns')\n",
    "y=df.category"
   ]
  },
  {
   "cell_type": "markdown",
   "id": "5422be7a",
   "metadata": {
    "papermill": {
     "duration": 0.134729,
     "end_time": "2021-12-20T18:37:44.571684",
     "exception": false,
     "start_time": "2021-12-20T18:37:44.436955",
     "status": "completed"
    },
    "tags": []
   },
   "source": [
    "TEST TRAIN SPLIT"
   ]
  },
  {
   "cell_type": "code",
   "execution_count": 74,
   "id": "49b3d17d",
   "metadata": {
    "execution": {
     "iopub.execute_input": "2021-12-20T18:37:44.848519Z",
     "iopub.status.busy": "2021-12-20T18:37:44.847755Z",
     "iopub.status.idle": "2021-12-20T18:37:45.109545Z",
     "shell.execute_reply": "2021-12-20T18:37:45.110554Z",
     "shell.execute_reply.started": "2021-12-20T18:32:18.227308Z"
    },
    "papermill": {
     "duration": 0.404638,
     "end_time": "2021-12-20T18:37:45.110960",
     "exception": false,
     "start_time": "2021-12-20T18:37:44.706322",
     "status": "completed"
    },
    "tags": []
   },
   "outputs": [
    {
     "name": "stdout",
     "output_type": "stream",
     "text": [
      "2201112 733705\n"
     ]
    }
   ],
   "source": [
    "from sklearn.model_selection import train_test_split\n",
    "x_train, x_test, y_train,y_test = train_test_split(x, y, train_size=0.75, random_state=1)\n",
    "print(len(x_train), len(x_test))"
   ]
  },
  {
   "cell_type": "markdown",
   "id": "d10cf0a2",
   "metadata": {
    "papermill": {
     "duration": 0.13491,
     "end_time": "2021-12-20T18:37:45.383604",
     "exception": false,
     "start_time": "2021-12-20T18:37:45.248694",
     "status": "completed"
    },
    "tags": []
   },
   "source": [
    "MODEL CREATION \n",
    "DECISION TREEE"
   ]
  },
  {
   "cell_type": "code",
   "execution_count": 86,
   "id": "4d5673b5",
   "metadata": {
    "execution": {
     "iopub.execute_input": "2021-12-20T18:37:45.688562Z",
     "iopub.status.busy": "2021-12-20T18:37:45.687855Z",
     "iopub.status.idle": "2021-12-20T18:37:45.879996Z",
     "shell.execute_reply": "2021-12-20T18:37:45.879308Z",
     "shell.execute_reply.started": "2021-12-20T18:32:18.447171Z"
    },
    "papermill": {
     "duration": 0.362337,
     "end_time": "2021-12-20T18:37:45.880166",
     "exception": false,
     "start_time": "2021-12-20T18:37:45.517829",
     "status": "completed"
    },
    "tags": []
   },
   "outputs": [],
   "source": [
    "from sklearn import tree\n",
    "model=tree.DecisionTreeClassifier(criterion=\"entropy\")"
   ]
  },
  {
   "cell_type": "code",
   "execution_count": 87,
   "id": "2ba07db3",
   "metadata": {
    "execution": {
     "iopub.execute_input": "2021-12-20T18:37:46.155644Z",
     "iopub.status.busy": "2021-12-20T18:37:46.154924Z",
     "iopub.status.idle": "2021-12-20T18:37:47.969951Z",
     "shell.execute_reply": "2021-12-20T18:37:47.969261Z",
     "shell.execute_reply.started": "2021-12-20T18:32:18.626498Z"
    },
    "papermill": {
     "duration": 1.954463,
     "end_time": "2021-12-20T18:37:47.970116",
     "exception": false,
     "start_time": "2021-12-20T18:37:46.015653",
     "status": "completed"
    },
    "tags": []
   },
   "outputs": [
    {
     "data": {
      "text/plain": [
       "DecisionTreeClassifier(criterion='entropy')"
      ]
     },
     "execution_count": 87,
     "metadata": {},
     "output_type": "execute_result"
    }
   ],
   "source": [
    "model.fit(x_train,y_train)"
   ]
  },
  {
   "cell_type": "markdown",
   "id": "aacd0303",
   "metadata": {
    "papermill": {
     "duration": 0.135351,
     "end_time": "2021-12-20T18:37:48.239158",
     "exception": false,
     "start_time": "2021-12-20T18:37:48.103807",
     "status": "completed"
    },
    "tags": []
   },
   "source": [
    "CONFUSION  MATRIX"
   ]
  },
  {
   "cell_type": "code",
   "execution_count": 88,
   "id": "99e14a1e",
   "metadata": {
    "execution": {
     "iopub.execute_input": "2021-12-20T18:37:48.517294Z",
     "iopub.status.busy": "2021-12-20T18:37:48.516507Z",
     "iopub.status.idle": "2021-12-20T18:37:48.784683Z",
     "shell.execute_reply": "2021-12-20T18:37:48.783936Z",
     "shell.execute_reply.started": "2021-12-20T18:32:20.402122Z"
    },
    "papermill": {
     "duration": 0.411579,
     "end_time": "2021-12-20T18:37:48.784878",
     "exception": false,
     "start_time": "2021-12-20T18:37:48.373299",
     "status": "completed"
    },
    "tags": []
   },
   "outputs": [
    {
     "data": {
      "text/plain": [
       "array([[385460,      0,      0,      0,      0],\n",
       "       [     0, 329797,      0,      0,      0],\n",
       "       [     0,      0,    107,      0,      0],\n",
       "       [     0,      0,      0,  18323,      0],\n",
       "       [     0,      0,      0,      0,     18]], dtype=int64)"
      ]
     },
     "execution_count": 88,
     "metadata": {},
     "output_type": "execute_result"
    }
   ],
   "source": [
    "from sklearn.metrics import confusion_matrix\n",
    "y_pred=model.predict(x_test)\n",
    "cm=confusion_matrix(y_test,y_pred)\n",
    "cm"
   ]
  },
  {
   "cell_type": "code",
   "execution_count": 89,
   "id": "2b45d9ca",
   "metadata": {
    "execution": {
     "iopub.execute_input": "2021-12-20T18:37:49.064438Z",
     "iopub.status.busy": "2021-12-20T18:37:49.063674Z",
     "iopub.status.idle": "2021-12-20T18:37:49.065757Z",
     "shell.execute_reply": "2021-12-20T18:37:49.066439Z",
     "shell.execute_reply.started": "2021-12-20T18:32:20.682491Z"
    },
    "papermill": {
     "duration": 0.146523,
     "end_time": "2021-12-20T18:37:49.066633",
     "exception": false,
     "start_time": "2021-12-20T18:37:48.920110",
     "status": "completed"
    },
    "tags": []
   },
   "outputs": [],
   "source": [
    "import sklearn.metrics as metrics\n",
    "from sklearn.metrics import f1_score\n",
    "from sklearn.metrics import accuracy_score\n",
    "from sklearn.metrics import precision_score\n",
    "from sklearn.metrics import recall_score"
   ]
  },
  {
   "cell_type": "code",
   "execution_count": 90,
   "id": "d7201f72",
   "metadata": {
    "execution": {
     "iopub.execute_input": "2021-12-20T18:37:49.350201Z",
     "iopub.status.busy": "2021-12-20T18:37:49.349454Z",
     "iopub.status.idle": "2021-12-20T18:37:49.673636Z",
     "shell.execute_reply": "2021-12-20T18:37:49.672966Z",
     "shell.execute_reply.started": "2021-12-20T18:32:20.688469Z"
    },
    "papermill": {
     "duration": 0.467412,
     "end_time": "2021-12-20T18:37:49.673816",
     "exception": false,
     "start_time": "2021-12-20T18:37:49.206404",
     "status": "completed"
    },
    "tags": []
   },
   "outputs": [
    {
     "name": "stdout",
     "output_type": "stream",
     "text": [
      "Classification Metrices : \n",
      "Accuracy: 1.0\n",
      "F1 Score: 1.0\n",
      "Precision:  1.0\n",
      "Recall:  1.0\n"
     ]
    }
   ],
   "source": [
    "print(\"Classification Metrices : \")\n",
    "print(\"Accuracy:\",accuracy_score(y_test, y_pred))\n",
    "dt_a = accuracy_score(y_test, y_pred)\n",
    "print(\"F1 Score:\",f1_score(y_test, y_pred, average='weighted'))\n",
    "dt_f = f1_score(y_test, y_pred, average='weighted')\n",
    "print(\"Precision: \",precision_score(y_test,y_pred, average='weighted'))\n",
    "dt_p = precision_score(y_test,y_pred, average='weighted')\n",
    "print(\"Recall: \",recall_score(y_test,y_pred,average = 'weighted'))\n",
    "dt_r = recall_score(y_test,y_pred,average = 'weighted')"
   ]
  },
  {
   "cell_type": "markdown",
   "id": "d50435ca",
   "metadata": {
    "papermill": {
     "duration": 0.13702,
     "end_time": "2021-12-20T18:37:49.948388",
     "exception": false,
     "start_time": "2021-12-20T18:37:49.811368",
     "status": "completed"
    },
    "tags": []
   },
   "source": [
    "KNN"
   ]
  },
  {
   "cell_type": "code",
   "execution_count": 91,
   "id": "514a3037",
   "metadata": {
    "execution": {
     "iopub.execute_input": "2021-12-20T18:37:50.225937Z",
     "iopub.status.busy": "2021-12-20T18:37:50.225089Z",
     "iopub.status.idle": "2021-12-20T18:37:50.227945Z",
     "shell.execute_reply": "2021-12-20T18:37:50.227363Z",
     "shell.execute_reply.started": "2021-12-20T18:32:21.056614Z"
    },
    "papermill": {
     "duration": 0.14437,
     "end_time": "2021-12-20T18:37:50.228098",
     "exception": false,
     "start_time": "2021-12-20T18:37:50.083728",
     "status": "completed"
    },
    "tags": []
   },
   "outputs": [],
   "source": [
    "from sklearn.neighbors import KNeighborsClassifier"
   ]
  },
  {
   "cell_type": "markdown",
   "id": "b0bff309",
   "metadata": {
    "papermill": {
     "duration": 0.136242,
     "end_time": "2021-12-20T18:37:50.501667",
     "exception": false,
     "start_time": "2021-12-20T18:37:50.365425",
     "status": "completed"
    },
    "tags": []
   },
   "source": [
    "error1=[]\n",
    "error2=[]\n",
    "for k in range(1,15):\n",
    "  knn = KNeighborsClassifier(n_neighbors=k)\n",
    "  knn.fit(x_train,y_train)\n",
    "  y_pred1 = knn.predict(x_train)\n",
    "  error1.append(np.mean(y_train!=y_pred1))\n",
    "  y_pred2 = knn.predict(x_test)\n",
    "  error2.append(np.mean(y_test!=y_pred2))\n",
    "plt.plot(range(1,15),error1,label='train')\n",
    "plt.plot(range(1,15),error2,label='test')\n",
    "plt.xlabel('K - Value')\n",
    "plt.ylabel('Error')\n",
    "plt.legend()"
   ]
  },
  {
   "cell_type": "markdown",
   "id": "7afd4f8a",
   "metadata": {
    "papermill": {
     "duration": 0.134652,
     "end_time": "2021-12-20T18:37:50.773733",
     "exception": false,
     "start_time": "2021-12-20T18:37:50.639081",
     "status": "completed"
    },
    "tags": []
   },
   "source": [
    "I have used previous code to select k value for which test train error is low ie k=2"
   ]
  },
  {
   "cell_type": "code",
   "execution_count": 92,
   "id": "d4fd19f7",
   "metadata": {
    "execution": {
     "iopub.execute_input": "2021-12-20T18:37:51.333734Z",
     "iopub.status.busy": "2021-12-20T18:37:51.332715Z",
     "iopub.status.idle": "2021-12-20T18:37:51.336264Z",
     "shell.execute_reply": "2021-12-20T18:37:51.335514Z",
     "shell.execute_reply.started": "2021-12-20T18:32:21.079069Z"
    },
    "papermill": {
     "duration": 0.145012,
     "end_time": "2021-12-20T18:37:51.336428",
     "exception": false,
     "start_time": "2021-12-20T18:37:51.191416",
     "status": "completed"
    },
    "tags": []
   },
   "outputs": [],
   "source": [
    "knn=KNeighborsClassifier(n_neighbors=2,n_jobs=10)"
   ]
  },
  {
   "cell_type": "code",
   "execution_count": 93,
   "id": "24179a3d",
   "metadata": {
    "execution": {
     "iopub.execute_input": "2021-12-20T18:37:51.617664Z",
     "iopub.status.busy": "2021-12-20T18:37:51.616256Z",
     "iopub.status.idle": "2021-12-20T18:38:37.411605Z",
     "shell.execute_reply": "2021-12-20T18:38:37.412173Z",
     "shell.execute_reply.started": "2021-12-20T18:32:21.088799Z"
    },
    "papermill": {
     "duration": 45.939258,
     "end_time": "2021-12-20T18:38:37.412369",
     "exception": false,
     "start_time": "2021-12-20T18:37:51.473111",
     "status": "completed"
    },
    "tags": []
   },
   "outputs": [
    {
     "data": {
      "text/plain": [
       "KNeighborsClassifier(n_jobs=10, n_neighbors=2)"
      ]
     },
     "execution_count": 93,
     "metadata": {},
     "output_type": "execute_result"
    }
   ],
   "source": [
    "knn.fit(x_train,y_train)"
   ]
  },
  {
   "cell_type": "markdown",
   "id": "08ed3c3d",
   "metadata": {
    "papermill": {
     "duration": 0.14172,
     "end_time": "2021-12-20T18:38:37.688303",
     "exception": false,
     "start_time": "2021-12-20T18:38:37.546583",
     "status": "completed"
    },
    "tags": []
   },
   "source": [
    "CONFUSION MATRIX"
   ]
  },
  {
   "cell_type": "code",
   "execution_count": 94,
   "id": "fc45106f",
   "metadata": {
    "execution": {
     "iopub.execute_input": "2021-12-20T18:38:37.969592Z",
     "iopub.status.busy": "2021-12-20T18:38:37.968884Z",
     "iopub.status.idle": "2021-12-20T18:38:50.388260Z",
     "shell.execute_reply": "2021-12-20T18:38:50.388760Z",
     "shell.execute_reply.started": "2021-12-20T18:33:03.839961Z"
    },
    "papermill": {
     "duration": 12.56258,
     "end_time": "2021-12-20T18:38:50.388969",
     "exception": false,
     "start_time": "2021-12-20T18:38:37.826389",
     "status": "completed"
    },
    "tags": []
   },
   "outputs": [
    {
     "data": {
      "text/plain": [
       "array([[385459,      1,      0,      0,      0],\n",
       "       [     1, 329796,      0,      0,      0],\n",
       "       [     1,      0,    106,      0,      0],\n",
       "       [     5,      0,      6,  18312,      0],\n",
       "       [     0,      0,      0,      1,     17]], dtype=int64)"
      ]
     },
     "execution_count": 94,
     "metadata": {},
     "output_type": "execute_result"
    }
   ],
   "source": [
    "from sklearn.metrics import confusion_matrix\n",
    "y_pred=knn.predict(x_test)\n",
    "cm=confusion_matrix(y_test,y_pred)\n",
    "cm"
   ]
  },
  {
   "cell_type": "markdown",
   "id": "4d1c0cd4",
   "metadata": {
    "papermill": {
     "duration": 0.142059,
     "end_time": "2021-12-20T18:38:50.670688",
     "exception": false,
     "start_time": "2021-12-20T18:38:50.528629",
     "status": "completed"
    },
    "tags": []
   },
   "source": []
  },
  {
   "cell_type": "code",
   "execution_count": 95,
   "id": "120b3309",
   "metadata": {
    "execution": {
     "iopub.execute_input": "2021-12-20T18:38:50.949249Z",
     "iopub.status.busy": "2021-12-20T18:38:50.948066Z",
     "iopub.status.idle": "2021-12-20T18:38:51.283412Z",
     "shell.execute_reply": "2021-12-20T18:38:51.284120Z",
     "shell.execute_reply.started": "2021-12-20T18:33:14.614976Z"
    },
    "papermill": {
     "duration": 0.477879,
     "end_time": "2021-12-20T18:38:51.284314",
     "exception": false,
     "start_time": "2021-12-20T18:38:50.806435",
     "status": "completed"
    },
    "tags": []
   },
   "outputs": [
    {
     "name": "stdout",
     "output_type": "stream",
     "text": [
      "Classification Metrices : \n",
      "Accuracy: 0.9999795558160296\n",
      "F1 Score: 0.9999796430668448\n",
      "Precision:  0.9999799202949983\n",
      "Recall:  0.9999795558160296\n"
     ]
    }
   ],
   "source": [
    "print(\"Classification Metrices : \")\n",
    "print(\"Accuracy:\",accuracy_score(y_test, y_pred))\n",
    "knn_a = accuracy_score(y_test, y_pred)\n",
    "print(\"F1 Score:\",f1_score(y_test, y_pred, average='weighted'))\n",
    "knn_f = f1_score(y_test, y_pred, average='weighted')\n",
    "print(\"Precision: \",precision_score(y_test,y_pred, average='weighted'))\n",
    "knn_p = precision_score(y_test,y_pred, average='weighted')\n",
    "print(\"Recall: \",recall_score(y_test,y_pred,average = 'weighted'))\n",
    "knn_r = recall_score(y_test,y_pred,average = 'weighted')"
   ]
  },
  {
   "cell_type": "markdown",
   "id": "9c63a6bb",
   "metadata": {
    "papermill": {
     "duration": 0.136975,
     "end_time": "2021-12-20T18:38:51.561123",
     "exception": false,
     "start_time": "2021-12-20T18:38:51.424148",
     "status": "completed"
    },
    "tags": []
   },
   "source": [
    "MULTINOMIAL NAIVE BAYES"
   ]
  },
  {
   "cell_type": "code",
   "execution_count": 96,
   "id": "515356ed",
   "metadata": {
    "execution": {
     "iopub.execute_input": "2021-12-20T18:38:51.883121Z",
     "iopub.status.busy": "2021-12-20T18:38:51.882371Z",
     "iopub.status.idle": "2021-12-20T18:38:51.887654Z",
     "shell.execute_reply": "2021-12-20T18:38:51.888357Z",
     "shell.execute_reply.started": "2021-12-20T18:33:14.977568Z"
    },
    "papermill": {
     "duration": 0.150057,
     "end_time": "2021-12-20T18:38:51.888556",
     "exception": false,
     "start_time": "2021-12-20T18:38:51.738499",
     "status": "completed"
    },
    "tags": []
   },
   "outputs": [],
   "source": [
    "from sklearn.naive_bayes import MultinomialNB\n",
    "nbmodel = MultinomialNB()"
   ]
  },
  {
   "cell_type": "code",
   "execution_count": 97,
   "id": "25253bf4",
   "metadata": {
    "execution": {
     "iopub.execute_input": "2021-12-20T18:38:52.170285Z",
     "iopub.status.busy": "2021-12-20T18:38:52.166597Z",
     "iopub.status.idle": "2021-12-20T18:38:52.335928Z",
     "shell.execute_reply": "2021-12-20T18:38:52.336878Z",
     "shell.execute_reply.started": "2021-12-20T18:33:14.985449Z"
    },
    "papermill": {
     "duration": 0.311678,
     "end_time": "2021-12-20T18:38:52.337194",
     "exception": false,
     "start_time": "2021-12-20T18:38:52.025516",
     "status": "completed"
    },
    "tags": []
   },
   "outputs": [
    {
     "data": {
      "text/plain": [
       "MultinomialNB()"
      ]
     },
     "execution_count": 97,
     "metadata": {},
     "output_type": "execute_result"
    }
   ],
   "source": [
    "nbmodel.fit(x_train,y_train)"
   ]
  },
  {
   "cell_type": "markdown",
   "id": "2c72d8b9",
   "metadata": {
    "papermill": {
     "duration": 0.138021,
     "end_time": "2021-12-20T18:38:52.658935",
     "exception": false,
     "start_time": "2021-12-20T18:38:52.520914",
     "status": "completed"
    },
    "tags": []
   },
   "source": [
    "CONFUSION MATRIX"
   ]
  },
  {
   "cell_type": "code",
   "execution_count": 98,
   "id": "62eb9ef6",
   "metadata": {
    "execution": {
     "iopub.execute_input": "2021-12-20T18:38:52.949862Z",
     "iopub.status.busy": "2021-12-20T18:38:52.948329Z",
     "iopub.status.idle": "2021-12-20T18:38:53.278155Z",
     "shell.execute_reply": "2021-12-20T18:38:53.277210Z",
     "shell.execute_reply.started": "2021-12-20T18:33:15.149776Z"
    },
    "papermill": {
     "duration": 0.477446,
     "end_time": "2021-12-20T18:38:53.278313",
     "exception": false,
     "start_time": "2021-12-20T18:38:52.800867",
     "status": "completed"
    },
    "tags": []
   },
   "outputs": [
    {
     "data": {
      "text/plain": [
       "array([[385460,      0,      0,      0,      0],\n",
       "       [ 86929, 242868,      0,      0,      0],\n",
       "       [   107,      0,      0,      0,      0],\n",
       "       [ 18073,      0,      0,    250,      0],\n",
       "       [    18,      0,      0,      0,      0]], dtype=int64)"
      ]
     },
     "execution_count": 98,
     "metadata": {},
     "output_type": "execute_result"
    }
   ],
   "source": [
    "from sklearn.metrics import confusion_matrix\n",
    "y_pred=nbmodel.predict(x_test)\n",
    "cm=confusion_matrix(y_test,y_pred)\n",
    "cm"
   ]
  },
  {
   "cell_type": "code",
   "execution_count": 99,
   "id": "5fe5c4cc",
   "metadata": {
    "execution": {
     "iopub.execute_input": "2021-12-20T18:38:53.558418Z",
     "iopub.status.busy": "2021-12-20T18:38:53.557655Z",
     "iopub.status.idle": "2021-12-20T18:38:53.890331Z",
     "shell.execute_reply": "2021-12-20T18:38:53.890939Z",
     "shell.execute_reply.started": "2021-12-20T18:33:15.493037Z"
    },
    "papermill": {
     "duration": 0.475679,
     "end_time": "2021-12-20T18:38:53.891144",
     "exception": false,
     "start_time": "2021-12-20T18:38:53.415465",
     "status": "completed"
    },
    "tags": []
   },
   "outputs": [
    {
     "name": "stdout",
     "output_type": "stream",
     "text": [
      "Classification Metrices : \n",
      "Accuracy: 0.8567176181162729\n",
      "F1 Score: 0.8442523598946629\n"
     ]
    },
    {
     "name": "stderr",
     "output_type": "stream",
     "text": [
      "C:\\ProgramData\\Anaconda3\\lib\\site-packages\\sklearn\\metrics\\_classification.py:1318: UndefinedMetricWarning: Precision is ill-defined and being set to 0.0 in labels with no predicted samples. Use `zero_division` parameter to control this behavior.\n",
      "  _warn_prf(average, modifier, msg_start, len(result))\n",
      "C:\\ProgramData\\Anaconda3\\lib\\site-packages\\sklearn\\metrics\\_classification.py:1318: UndefinedMetricWarning: Precision is ill-defined and being set to 0.0 in labels with no predicted samples. Use `zero_division` parameter to control this behavior.\n",
      "  _warn_prf(average, modifier, msg_start, len(result))\n"
     ]
    },
    {
     "name": "stdout",
     "output_type": "stream",
     "text": [
      "Precision:  0.8872509721111366\n",
      "Recall:  0.8567176181162729\n"
     ]
    }
   ],
   "source": [
    "print(\"Classification Metrices : \")\n",
    "print(\"Accuracy:\",accuracy_score(y_test, y_pred))\n",
    "nb_a = accuracy_score(y_test, y_pred)\n",
    "print(\"F1 Score:\",f1_score(y_test, y_pred, average='weighted'))\n",
    "nb_f = f1_score(y_test, y_pred, average='weighted')\n",
    "print(\"Precision: \",precision_score(y_test,y_pred, average='weighted'))\n",
    "nb_p = precision_score(y_test,y_pred, average='weighted')\n",
    "print(\"Recall: \",recall_score(y_test,y_pred,average = 'weighted'))\n",
    "nb_r = recall_score(y_test,y_pred,average = 'weighted')"
   ]
  },
  {
   "cell_type": "markdown",
   "id": "fbf25bf7",
   "metadata": {
    "papermill": {
     "duration": 0.139689,
     "end_time": "2021-12-20T18:38:54.167443",
     "exception": false,
     "start_time": "2021-12-20T18:38:54.027754",
     "status": "completed"
    },
    "tags": []
   },
   "source": [
    "RANDOM FOREST"
   ]
  },
  {
   "cell_type": "code",
   "execution_count": 100,
   "id": "d69bc9d8",
   "metadata": {
    "execution": {
     "iopub.execute_input": "2021-12-20T18:38:54.449651Z",
     "iopub.status.busy": "2021-12-20T18:38:54.448768Z",
     "iopub.status.idle": "2021-12-20T18:38:54.478750Z",
     "shell.execute_reply": "2021-12-20T18:38:54.479373Z",
     "shell.execute_reply.started": "2021-12-20T18:33:15.858395Z"
    },
    "papermill": {
     "duration": 0.173164,
     "end_time": "2021-12-20T18:38:54.479577",
     "exception": false,
     "start_time": "2021-12-20T18:38:54.306413",
     "status": "completed"
    },
    "tags": []
   },
   "outputs": [],
   "source": [
    "#random forest\n",
    "from sklearn.ensemble import RandomForestClassifier\n",
    "classifer_rf=RandomForestClassifier(random_state=42,n_jobs=-1,max_depth=5,n_estimators=100,oob_score=True)"
   ]
  },
  {
   "cell_type": "code",
   "execution_count": 101,
   "id": "499634f5",
   "metadata": {
    "execution": {
     "iopub.execute_input": "2021-12-20T18:38:54.762097Z",
     "iopub.status.busy": "2021-12-20T18:38:54.761015Z",
     "iopub.status.idle": "2021-12-20T18:39:24.398936Z",
     "shell.execute_reply": "2021-12-20T18:39:24.398307Z",
     "shell.execute_reply.started": "2021-12-20T18:33:15.892948Z"
    },
    "papermill": {
     "duration": 29.780772,
     "end_time": "2021-12-20T18:39:24.399122",
     "exception": false,
     "start_time": "2021-12-20T18:38:54.618350",
     "status": "completed"
    },
    "tags": []
   },
   "outputs": [
    {
     "data": {
      "text/plain": [
       "RandomForestClassifier(max_depth=5, n_jobs=-1, oob_score=True, random_state=42)"
      ]
     },
     "execution_count": 101,
     "metadata": {},
     "output_type": "execute_result"
    }
   ],
   "source": [
    "classifer_rf.fit(x_train,y_train)"
   ]
  },
  {
   "cell_type": "code",
   "execution_count": 102,
   "id": "d7d90cbb",
   "metadata": {
    "execution": {
     "iopub.execute_input": "2021-12-20T18:39:24.725301Z",
     "iopub.status.busy": "2021-12-20T18:39:24.724573Z",
     "iopub.status.idle": "2021-12-20T18:39:25.459817Z",
     "shell.execute_reply": "2021-12-20T18:39:25.459102Z",
     "shell.execute_reply.started": "2021-12-20T18:33:41.508816Z"
    },
    "papermill": {
     "duration": 0.91687,
     "end_time": "2021-12-20T18:39:25.459984",
     "exception": false,
     "start_time": "2021-12-20T18:39:24.543114",
     "status": "completed"
    },
    "tags": []
   },
   "outputs": [
    {
     "data": {
      "text/plain": [
       "0.9998555277666092"
      ]
     },
     "execution_count": 102,
     "metadata": {},
     "output_type": "execute_result"
    }
   ],
   "source": [
    "classifer_rf.score(x_test,y_test)"
   ]
  },
  {
   "cell_type": "code",
   "execution_count": 103,
   "id": "5b8590aa",
   "metadata": {
    "execution": {
     "iopub.execute_input": "2021-12-20T18:39:25.750424Z",
     "iopub.status.busy": "2021-12-20T18:39:25.749683Z",
     "iopub.status.idle": "2021-12-20T18:39:26.716863Z",
     "shell.execute_reply": "2021-12-20T18:39:26.716135Z",
     "shell.execute_reply.started": "2021-12-20T18:33:42.040666Z"
    },
    "papermill": {
     "duration": 1.115366,
     "end_time": "2021-12-20T18:39:26.717023",
     "exception": false,
     "start_time": "2021-12-20T18:39:25.601657",
     "status": "completed"
    },
    "tags": []
   },
   "outputs": [],
   "source": [
    "from sklearn.metrics import confusion_matrix\n",
    "y_pred=classifer_rf.predict(x_test)\n",
    "cm=confusion_matrix(y_test,y_pred)"
   ]
  },
  {
   "cell_type": "code",
   "execution_count": 104,
   "id": "300fbc96",
   "metadata": {
    "execution": {
     "iopub.execute_input": "2021-12-20T18:39:27.010599Z",
     "iopub.status.busy": "2021-12-20T18:39:27.009224Z",
     "iopub.status.idle": "2021-12-20T18:39:27.013645Z",
     "shell.execute_reply": "2021-12-20T18:39:27.014195Z",
     "shell.execute_reply.started": "2021-12-20T18:33:42.819828Z"
    },
    "papermill": {
     "duration": 0.151462,
     "end_time": "2021-12-20T18:39:27.014383",
     "exception": false,
     "start_time": "2021-12-20T18:39:26.862921",
     "status": "completed"
    },
    "tags": []
   },
   "outputs": [
    {
     "data": {
      "text/plain": [
       "array([[385460,      0,      0,      0,      0],\n",
       "       [     0, 329797,      0,      0,      0],\n",
       "       [     4,      0,     23,     80,      0],\n",
       "       [     4,      0,      0,  18319,      0],\n",
       "       [     0,      0,      0,     18,      0]], dtype=int64)"
      ]
     },
     "execution_count": 104,
     "metadata": {},
     "output_type": "execute_result"
    }
   ],
   "source": [
    "cm"
   ]
  },
  {
   "cell_type": "markdown",
   "id": "c7139187",
   "metadata": {
    "papermill": {
     "duration": 0.13911,
     "end_time": "2021-12-20T18:39:27.293255",
     "exception": false,
     "start_time": "2021-12-20T18:39:27.154145",
     "status": "completed"
    },
    "tags": []
   },
   "source": [
    "CONFUSION MATRIX"
   ]
  },
  {
   "cell_type": "code",
   "execution_count": 105,
   "id": "6e5495ff",
   "metadata": {
    "execution": {
     "iopub.execute_input": "2021-12-20T18:39:27.589520Z",
     "iopub.status.busy": "2021-12-20T18:39:27.588423Z",
     "iopub.status.idle": "2021-12-20T18:39:27.924837Z",
     "shell.execute_reply": "2021-12-20T18:39:27.925844Z",
     "shell.execute_reply.started": "2021-12-20T18:33:42.827390Z"
    },
    "papermill": {
     "duration": 0.487372,
     "end_time": "2021-12-20T18:39:27.926124",
     "exception": false,
     "start_time": "2021-12-20T18:39:27.438752",
     "status": "completed"
    },
    "tags": []
   },
   "outputs": [
    {
     "name": "stdout",
     "output_type": "stream",
     "text": [
      "Classification Metrices : \n",
      "Accuracy: 0.9998555277666092\n",
      "F1 Score: 0.9998064509093647\n"
     ]
    },
    {
     "name": "stderr",
     "output_type": "stream",
     "text": [
      "C:\\ProgramData\\Anaconda3\\lib\\site-packages\\sklearn\\metrics\\_classification.py:1318: UndefinedMetricWarning: Precision is ill-defined and being set to 0.0 in labels with no predicted samples. Use `zero_division` parameter to control this behavior.\n",
      "  _warn_prf(average, modifier, msg_start, len(result))\n",
      "C:\\ProgramData\\Anaconda3\\lib\\site-packages\\sklearn\\metrics\\_classification.py:1318: UndefinedMetricWarning: Precision is ill-defined and being set to 0.0 in labels with no predicted samples. Use `zero_division` parameter to control this behavior.\n",
      "  _warn_prf(average, modifier, msg_start, len(result))\n"
     ]
    },
    {
     "name": "stdout",
     "output_type": "stream",
     "text": [
      "Precision:  0.999831676703953\n",
      "Recall:  0.9998555277666092\n"
     ]
    }
   ],
   "source": [
    "print(\"Classification Metrices : \")\n",
    "print(\"Accuracy:\",accuracy_score(y_test, y_pred))\n",
    "rf_a = accuracy_score(y_test, y_pred)\n",
    "print(\"F1 Score:\",f1_score(y_test, y_pred, average='weighted'))\n",
    "rf_f = f1_score(y_test, y_pred, average='weighted')\n",
    "print(\"Precision: \",precision_score(y_test,y_pred, average='weighted'))\n",
    "rf_p = precision_score(y_test,y_pred, average='weighted')\n",
    "print(\"Recall: \",recall_score(y_test,y_pred,average = 'weighted'))\n",
    "rf_r = recall_score(y_test,y_pred,average = 'weighted')"
   ]
  },
  {
   "cell_type": "code",
   "execution_count": 106,
   "id": "6c83a751",
   "metadata": {
    "execution": {
     "iopub.execute_input": "2021-12-20T18:39:28.216894Z",
     "iopub.status.busy": "2021-12-20T18:39:28.216148Z",
     "iopub.status.idle": "2021-12-20T18:39:28.222884Z",
     "shell.execute_reply": "2021-12-20T18:39:28.223487Z",
     "shell.execute_reply.started": "2021-12-20T18:33:43.197817Z"
    },
    "papermill": {
     "duration": 0.154314,
     "end_time": "2021-12-20T18:39:28.223684",
     "exception": false,
     "start_time": "2021-12-20T18:39:28.069370",
     "status": "completed"
    },
    "tags": []
   },
   "outputs": [
    {
     "name": "stdout",
     "output_type": "stream",
     "text": [
      "Accuracy for decision tree- 1.0\n",
      "Accuracy for knn- 0.9999795558160296\n",
      "Accuracy for multinomail naive bayes- 0.8567176181162729\n",
      "Accuracy for random forest- 0.9998555277666092\n"
     ]
    }
   ],
   "source": [
    "print(\"Accuracy for decision tree-\",dt_a)\n",
    "print(\"Accuracy for knn-\",knn_a)\n",
    "print(\"Accuracy for multinomail naive bayes-\",nb_a)\n",
    "print(\"Accuracy for random forest-\",rf_a)\n",
    "      "
   ]
  }
 ],
 "metadata": {
  "kernelspec": {
   "display_name": "Python 3 (ipykernel)",
   "language": "python",
   "name": "python3"
  },
  "language_info": {
   "codemirror_mode": {
    "name": "ipython",
    "version": 3
   },
   "file_extension": ".py",
   "mimetype": "text/x-python",
   "name": "python",
   "nbconvert_exporter": "python",
   "pygments_lexer": "ipython3",
   "version": "3.9.12"
  },
  "papermill": {
   "default_parameters": {},
   "duration": 301.348238,
   "end_time": "2021-12-20T18:39:40.745473",
   "environment_variables": {},
   "exception": null,
   "input_path": "__notebook__.ipynb",
   "output_path": "__notebook__.ipynb",
   "parameters": {},
   "start_time": "2021-12-20T18:34:39.397235",
   "version": "2.3.3"
  }
 },
 "nbformat": 4,
 "nbformat_minor": 5
}
